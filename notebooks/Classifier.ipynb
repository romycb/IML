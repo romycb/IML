{
 "cells": [
  {
   "cell_type": "markdown",
   "metadata": {},
   "source": [
    "# Classifier"
   ]
  },
  {
   "cell_type": "markdown",
   "metadata": {},
   "source": [
    "meer grid based dingen toevoegen, nu gaan we niet hoger komen\n"
   ]
  },
  {
   "cell_type": "code",
   "execution_count": 143,
   "metadata": {},
   "outputs": [],
   "source": [
    "from SimpleCV import *\n",
    "from IPython.display import HTML\n",
    "import matplotlib.pyplot as plt\n",
    "import numpy as np\n",
    "import matplotlib.cm as cm\n",
    "import sklearn \n",
    "from sklearn import preprocessing\n",
    "from sklearn.model_selection import train_test_split\n",
    "from sklearn.model_selection import GridSearchCV\n",
    "from sklearn.svm import SVC\n",
    "from sklearn.neighbors import KNeighborsClassifier\n",
    "import pandas as pd\n",
    "import cv2\n",
    "import glob\n",
    "from sklearn.ensemble import RandomForestClassifier\n",
    "from sklearn.naive_bayes import GaussianNB, BernoulliNB\n",
    "from sklearn.tree import DecisionTreeClassifier\n",
    "from sklearn import svm\n"
   ]
  },
  {
   "cell_type": "code",
   "execution_count": 144,
   "metadata": {},
   "outputs": [],
   "source": [
    "# df = pd.read_csv(\"../dataset-numpy/dataset_analysis.csv\")\n",
    "# wordt niet hoger door normalizen\n",
    "df = pd.read_csv(\"../dataset-numpy/dataset_analysis_normalized.csv\")\n",
    "df.head()\n",
    "\n",
    "\n",
    "# split df in data (X) and labels (y)\n",
    "X, y = df.iloc[:,:-1], df.iloc[:,-1]\n",
    "\n",
    "# create train and test data and labels\n",
    "X_train, X_test, y_train, y_test = train_test_split(X, y, test_size =0.20, random_state=42)"
   ]
  },
  {
   "cell_type": "code",
   "execution_count": 145,
   "metadata": {},
   "outputs": [],
   "source": [
    "min_max_scaler = preprocessing.MinMaxScaler() # Scale the training features\n",
    "training_set = min_max_scaler.fit_transform(X_train)\n",
    "# Scale the test features (using the same settings as the trainingset)\n",
    "test_set = min_max_scaler.transform(X_test)"
   ]
  },
  {
   "cell_type": "code",
   "execution_count": null,
   "metadata": {},
   "outputs": [],
   "source": []
  },
  {
   "cell_type": "code",
   "execution_count": 146,
   "metadata": {},
   "outputs": [
    {
     "name": "stdout",
     "output_type": "stream",
     "text": [
      "Gaussian : 0.8515625\n",
      "Bernoulli: 0.838541666667\n"
     ]
    }
   ],
   "source": [
    "#Naive Bayes Gaussian\n",
    "gnb = GaussianNB()\n",
    "gnb.fit(training_set, y_train)\n",
    "#y_pred = gnb.predict(X_test)\n",
    "print \"Gaussian :\",gnb.score(test_set, y_test)\n",
    "\n",
    "#Naive Bayes Bernoulli\n",
    "bnb = BernoulliNB()\n",
    "bnb.fit(training_set, y_train)\n",
    "#y_pred = gnb.predict(X_test)\n",
    "print \"Bernoulli:\",bnb.score(test_set, y_test)\n"
   ]
  },
  {
   "cell_type": "code",
   "execution_count": 184,
   "metadata": {},
   "outputs": [
    {
     "name": "stdout",
     "output_type": "stream",
     "text": [
      "Random forest: 0.9296875\n"
     ]
    }
   ],
   "source": [
    "#Random Forest\n",
    "# Create a random forest classifier\n",
    "clfRF = RandomForestClassifier(n_jobs=2, random_state=0)\n",
    "# Train the classifier to take the training features and learn how they relate to the training y\n",
    "clfRF.fit(training_set, y_train)\n",
    "print \"Random forest:\",clfRF.score(test_set, y_test)"
   ]
  },
  {
   "cell_type": "code",
   "execution_count": 185,
   "metadata": {},
   "outputs": [
    {
     "name": "stdout",
     "output_type": "stream",
     "text": [
      "Random forest: 0.96875\n",
      "{'warm_start': False, 'oob_score': False, 'n_jobs': 1, 'min_impurity_decrease': 0.0, 'verbose': 0, 'max_leaf_nodes': None, 'bootstrap': False, 'min_samples_leaf': 1, 'n_estimators': 1400, 'min_samples_split': 2, 'min_weight_fraction_leaf': 0.0, 'criterion': 'gini', 'random_state': None, 'min_impurity_split': None, 'max_features': 'sqrt', 'max_depth': 40, 'class_weight': None}\n"
     ]
    }
   ],
   "source": [
    "# #Random Forest\n",
    "# # Create a random forest classifier\n",
    "# clfRF = RandomForestClassifier(n_jobs=2, random_state=0)\n",
    "# # Train the classifier to take the training features and learn how they relate to the training y\n",
    "# clfRF.fit(training_set, y_train)\n",
    "# print \"Random forest:\",clfRF.score(test_set, y_test)\n",
    "\n",
    "# #Decision tree\n",
    "# clfDT = DecisionTreeClassifier(random_state=0)\n",
    "# clfDT.fit(training_set, y_train)\n",
    "# print \"Decision tree:\",clfDT.score(test_set, y_test)\n",
    "\n",
    "clfRF = RandomForestClassifier(bootstrap= False,  max_depth= 40, max_features= 'sqrt',\n",
    "                               min_samples_leaf = 1, min_samples_split = 2, n_estimators = 1400)\n",
    "# Train the classifier to take the training features and learn how they relate to the training y\n",
    "clfRF.fit(training_set, y_train)\n",
    "print \"Random forest:\",clfRF.score(test_set, y_test)\n",
    "print(clfRF.get_params())"
   ]
  },
  {
   "cell_type": "code",
   "execution_count": 148,
   "metadata": {},
   "outputs": [
    {
     "name": "stdout",
     "output_type": "stream",
     "text": [
      "Score KNN:  1 0.971354166667\n",
      "Score KNN:  2 0.963541666667\n",
      "Score KNN:  3 0.96875\n",
      "Score KNN:  4 0.963541666667\n",
      "Score KNN:  5 0.966145833333\n",
      "Score KNN:  6 0.9609375\n",
      "Score KNN:  7 0.963541666667\n",
      "Score KNN:  8 0.958333333333\n",
      "Score KNN:  9 0.9609375\n"
     ]
    }
   ],
   "source": [
    "# KNN\n",
    "# niet accurate, hoeveelheid neighbors:\n",
    "# Score KNN:  1 0.971354166667\n",
    "# Score KNN:  2 0.9609375\n",
    "# Score KNN:  3 0.963541666667\n",
    "# Score KNN:  4 0.966145833333\n",
    "# Score KNN:  5 0.963541666667\n",
    "# Score KNN:  6 0.963541666667\n",
    "# Score KNN:  7 0.963541666667\n",
    "# Score KNN:  8 0.9609375\n",
    "# Score KNN:  9 0.963541666667\n",
    "\n",
    "for i in range (1,10):\n",
    "    # Create a classifier with k \n",
    "    clfKNN = KNeighborsClassifier(n_neighbors=i)\n",
    "    # Train the classifier with the training data and training labels\n",
    "    clfKNN.fit(training_set, y_train)\n",
    "\n",
    "    # Score the classifier\n",
    "    # (calculates the mean accuracy of the given test data) \n",
    "    score = clfKNN.score(test_set, y_test)\n",
    "    print \"Score KNN: \", i , score"
   ]
  },
  {
   "cell_type": "markdown",
   "metadata": {},
   "source": [
    "# SVM with Gridsearch"
   ]
  },
  {
   "cell_type": "code",
   "execution_count": 189,
   "metadata": {},
   "outputs": [
    {
     "name": "stdout",
     "output_type": "stream",
     "text": [
      "{'kernel': 'rbf', 'C': 10, 'random_state': None, 'gamma': 0.16999999999999998}\n",
      "0.9765625\n"
     ]
    }
   ],
   "source": [
    "parameters = {'kernel' : ('linear', 'rbf'), 'C': [1,10], 'gamma': np.arange(.1, .2, 0.01)}\n",
    "\n",
    "# svc = svm.SVC(gamma = j)\n",
    "# print j\n",
    "clf = GridSearchCV(svm.SVC(), parameters, cv = 5)\n",
    "clf.fit(X_train, y_train)\n",
    "\n",
    "print clf.best_params_\n",
    "print clf.best_score_"
   ]
  },
  {
   "cell_type": "code",
   "execution_count": null,
   "metadata": {},
   "outputs": [],
   "source": []
  },
  {
   "cell_type": "code",
   "execution_count": null,
   "metadata": {},
   "outputs": [],
   "source": []
  },
  {
   "cell_type": "code",
   "execution_count": null,
   "metadata": {},
   "outputs": [],
   "source": []
  },
  {
   "cell_type": "code",
   "execution_count": null,
   "metadata": {},
   "outputs": [],
   "source": []
  },
  {
   "cell_type": "code",
   "execution_count": null,
   "metadata": {},
   "outputs": [],
   "source": []
  },
  {
   "cell_type": "code",
   "execution_count": null,
   "metadata": {},
   "outputs": [],
   "source": []
  },
  {
   "cell_type": "code",
   "execution_count": null,
   "metadata": {},
   "outputs": [],
   "source": []
  },
  {
   "cell_type": "code",
   "execution_count": null,
   "metadata": {},
   "outputs": [],
   "source": []
  }
 ],
 "metadata": {
  "kernelspec": {
   "display_name": "Python 2",
   "language": "python",
   "name": "python2"
  },
  "language_info": {
   "codemirror_mode": {
    "name": "ipython",
    "version": 2
   },
   "file_extension": ".py",
   "mimetype": "text/x-python",
   "name": "python",
   "nbconvert_exporter": "python",
   "pygments_lexer": "ipython2",
   "version": "2.7.12"
  }
 },
 "nbformat": 4,
 "nbformat_minor": 2
}
