{
 "cells": [
  {
   "cell_type": "markdown",
   "metadata": {},
   "source": [
    "# Classifier"
   ]
  },
  {
   "cell_type": "markdown",
   "metadata": {},
   "source": [
    "meer grid based dingen toevoegen, nu gaan we niet hoger komen\n"
   ]
  },
  {
   "cell_type": "code",
   "execution_count": 101,
   "metadata": {},
   "outputs": [],
   "source": [
    "from SimpleCV import *\n",
    "from IPython.display import HTML\n",
    "import matplotlib.pyplot as plt\n",
    "import numpy as np\n",
    "import matplotlib.cm as cm\n",
    "import sklearn \n",
    "from sklearn import preprocessing\n",
    "from sklearn.model_selection import train_test_split\n",
    "from sklearn.model_selection import GridSearchCV\n",
    "from sklearn.svm import SVC\n",
    "from sklearn.neighbors import KNeighborsClassifier\n",
    "import pandas as pd\n",
    "import cv2\n",
    "import glob\n",
    "from sklearn.ensemble import RandomForestClassifier\n",
    "from sklearn.naive_bayes import GaussianNB, BernoulliNB\n",
    "from sklearn.tree import DecisionTreeClassifier\n",
    "from sklearn import svm\n"
   ]
  },
  {
   "cell_type": "code",
   "execution_count": 102,
   "metadata": {},
   "outputs": [],
   "source": [
    "# df = pd.read_csv(\"../dataset-numpy/dataset_analysis.csv\")\n",
    "# wordt niet hoger door normalizen\n",
    "df = pd.read_csv(\"../dataset-numpy/dataset_analysis_normalized.csv\")\n",
    "df.head()\n",
    "\n",
    "\n",
    "# split df in data (X) and labels (y)\n",
    "X, y = df.iloc[:,:-1], df.iloc[:,-1]\n",
    "\n",
    "# create train and test data and labels\n",
    "X_train, X_test, y_train, y_test = train_test_split(X, y, test_size =0.20, random_state=42)"
   ]
  },
  {
   "cell_type": "code",
   "execution_count": 103,
   "metadata": {},
   "outputs": [],
   "source": [
    "min_max_scaler = preprocessing.MinMaxScaler() # Scale the training features\n",
    "training_set = min_max_scaler.fit_transform(X_train)\n",
    "# Scale the test features (using the same settings as the trainingset)\n",
    "test_set = min_max_scaler.transform(X_test)"
   ]
  },
  {
   "cell_type": "code",
   "execution_count": null,
   "metadata": {},
   "outputs": [],
   "source": []
  },
  {
   "cell_type": "code",
   "execution_count": 104,
   "metadata": {},
   "outputs": [
    {
     "name": "stdout",
     "output_type": "stream",
     "text": [
      "Gaussian : 0.8828125\n",
      "Bernoulli: 0.8671875\n"
     ]
    }
   ],
   "source": [
    "#Naive Bayes Gaussian\n",
    "gnb = GaussianNB()\n",
    "gnb.fit(training_set, y_train)\n",
    "#y_pred = gnb.predict(X_test)\n",
    "print \"Gaussian :\",gnb.score(test_set, y_test)\n",
    "\n",
    "#Naive Bayes Bernoulli\n",
    "bnb = BernoulliNB()\n",
    "bnb.fit(training_set, y_train)\n",
    "#y_pred = gnb.predict(X_test)\n",
    "print \"Bernoulli:\",bnb.score(test_set, y_test)\n"
   ]
  },
  {
   "cell_type": "code",
   "execution_count": 105,
   "metadata": {},
   "outputs": [
    {
     "name": "stdout",
     "output_type": "stream",
     "text": [
      "Random forest: 0.963541666667\n",
      "{'warm_start': False, 'oob_score': False, 'n_jobs': 1, 'min_impurity_decrease': 0.0, 'verbose': 0, 'max_leaf_nodes': None, 'bootstrap': False, 'min_samples_leaf': 1, 'n_estimators': 1400, 'min_samples_split': 2, 'min_weight_fraction_leaf': 0.0, 'criterion': 'gini', 'random_state': None, 'min_impurity_split': None, 'max_features': 'sqrt', 'max_depth': 40, 'class_weight': None}\n"
     ]
    }
   ],
   "source": [
    "# #Random Forest\n",
    "# # Create a random forest classifier\n",
    "# clfRF = RandomForestClassifier(n_jobs=2, random_state=0)\n",
    "# # Train the classifier to take the training features and learn how they relate to the training y\n",
    "# clfRF.fit(training_set, y_train)\n",
    "# print \"Random forest:\",clfRF.score(test_set, y_test)\n",
    "\n",
    "# #Decision tree\n",
    "# clfDT = DecisionTreeClassifier(random_state=0)\n",
    "# clfDT.fit(training_set, y_train)\n",
    "# print \"Decision tree:\",clfDT.score(test_set, y_test)\n",
    "\n",
    "clfRF = RandomForestClassifier(bootstrap= False,  max_depth= 40, max_features= 'sqrt',\n",
    "                               min_samples_leaf = 1, min_samples_split = 2, n_estimators = 1400)\n",
    "# Train the classifier to take the training features and learn how they relate to the training y\n",
    "clfRF.fit(training_set, y_train)\n",
    "print \"Random forest:\",clfRF.score(test_set, y_test)\n",
    "print(clfRF.get_params())"
   ]
  },
  {
   "cell_type": "code",
   "execution_count": 106,
   "metadata": {},
   "outputs": [
    {
     "name": "stdout",
     "output_type": "stream",
     "text": [
      "Score KNN:  1 0.971354166667\n",
      "Score KNN:  2 0.963541666667\n",
      "Score KNN:  3 0.966145833333\n",
      "Score KNN:  4 0.966145833333\n",
      "Score KNN:  5 0.963541666667\n",
      "Score KNN:  6 0.963541666667\n",
      "Score KNN:  7 0.963541666667\n",
      "Score KNN:  8 0.9609375\n",
      "Score KNN:  9 0.9609375\n"
     ]
    }
   ],
   "source": [
    "# KNN\n",
    "# niet accurate, hoeveelheid neighbors:\n",
    "# 5 = 0.841666666667\n",
    "# 6 = 0.835416666667\n",
    "# 7 = 0.8375\n",
    "# 1 = 0.827083333333\n",
    "# 2 = 0.835416666667\n",
    "# 3 = 0.845833333333\n",
    "# 4 = 0.847916666667\n",
    "# 8 = 0.83125\n",
    "# 9 = 0.83125\n",
    "# 10 = 0.8375\n",
    "\n",
    "for i in range (1,10):\n",
    "    # Create a classifier with k \n",
    "    clfKNN = KNeighborsClassifier(n_neighbors=i)\n",
    "    # Train the classifier with the training data and training labels\n",
    "    clfKNN.fit(training_set, y_train)\n",
    "\n",
    "    # Score the classifier\n",
    "    # (calculates the mean accuracy of the given test data) \n",
    "    score = clfKNN.score(test_set, y_test)\n",
    "    print \"Score KNN: \", i , score"
   ]
  },
  {
   "cell_type": "markdown",
   "metadata": {},
   "source": [
    "# SVM with Gridsearch"
   ]
  },
  {
   "cell_type": "code",
   "execution_count": 107,
   "metadata": {},
   "outputs": [
    {
     "name": "stdout",
     "output_type": "stream",
     "text": [
      "{'kernel': 'linear', 'C': 1}\n",
      "0.967447916667\n"
     ]
    }
   ],
   "source": [
    "parameters = {'kernel' : ('linear', 'rbf'), 'C': [1,10]}\n",
    "\n",
    "svc = svm.SVC(gamma = .01)\n",
    "\n",
    "clf = GridSearchCV(svc, parameters, cv = 5)\n",
    "clf.fit(X_train, y_train)\n",
    "\n",
    "print clf.best_params_\n",
    "print clf.best_score_"
   ]
  },
  {
   "cell_type": "markdown",
   "metadata": {},
   "source": []
  },
  {
   "cell_type": "code",
   "execution_count": null,
   "metadata": {},
   "outputs": [],
   "source": []
  },
  {
   "cell_type": "code",
   "execution_count": null,
   "metadata": {},
   "outputs": [],
   "source": []
  }
 ],
 "metadata": {
  "kernelspec": {
   "display_name": "Python 2",
   "language": "python",
   "name": "python2"
  },
  "language_info": {
   "codemirror_mode": {
    "name": "ipython",
    "version": 2
   },
   "file_extension": ".py",
   "mimetype": "text/x-python",
   "name": "python",
   "nbconvert_exporter": "python",
   "pygments_lexer": "ipython2",
   "version": "2.7.12"
  }
 },
 "nbformat": 4,
 "nbformat_minor": 2
}
