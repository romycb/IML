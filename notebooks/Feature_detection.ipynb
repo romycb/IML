{
 "cells": [
  {
   "cell_type": "code",
   "execution_count": 1,
   "metadata": {},
   "outputs": [],
   "source": [
    "# foto splitsen in 4 van 32x32\n",
    "# \n",
    "\n",
    "from SimpleCV import *\n",
    "from IPython.display import HTML\n",
    "import matplotlib as plt\n",
    "import matplotlib.image as mpimg\n",
    "import pandas as pd\n",
    "import cv2\n",
    "import glob"
   ]
  },
  {
   "cell_type": "code",
   "execution_count": 2,
   "metadata": {},
   "outputs": [],
   "source": [
    "disp = Display(displaytype='notebook')\n",
    "size = 32\n",
    "\n",
    "imagelist = []\n",
    "\n",
    "# get all files and add them to tuple with the postal codes\n",
    "for filename in glob.glob(\"../dataset-images/*.png\"): \n",
    "    image = Image(filename)\n",
    "    image = image.binarize().dilate()\n",
    "    answer = filename[18:22]\n",
    "    imagelist.append((answer, image))\n",
    "    \n",
    "numbers = []\n",
    "\n",
    "# seperate individual number images with the number\n",
    "for image in imagelist:\n",
    "    for i in range(4):\n",
    "        digit = image[0][(0 if i+1 == 1 else i):i+1]\n",
    "        numbers.append((digit, image[1].crop(i*size, 0, size, size*(i+1) )))"
   ]
  },
  {
   "cell_type": "code",
   "execution_count": 11,
   "metadata": {},
   "outputs": [],
   "source": [
    "# divide number images into pieces of 4x4 and create matrix\n",
    "def createMatrix(image):\n",
    "    size = 8\n",
    "    m = np.zeros((4,4))\n",
    "\n",
    "    pieces = []\n",
    "    for y in range(4):\n",
    "        for x in range(4):\n",
    "            crop = image.crop(x*size, y*size, size, size)\n",
    "            pieces.append(crop)\n",
    "            m[x][y] = 1 if crop.meanColor()[0] > 80 else 0\n",
    "\n",
    "    return m.T"
   ]
  },
  {
   "cell_type": "code",
   "execution_count": null,
   "metadata": {},
   "outputs": [],
   "source": []
  },
  {
   "cell_type": "code",
   "execution_count": 12,
   "metadata": {},
   "outputs": [],
   "source": [
    "def getBlobInfo(image):\n",
    "    image.show()\n",
    "    blobs = image.findBlobs()\n",
    "    image.draw(blobs, autocolor=True)\n",
    "    return blobs[0]"
   ]
  },
  {
   "cell_type": "code",
   "execution_count": 38,
   "metadata": {
    "scrolled": false
   },
   "outputs": [],
   "source": [
    "numbersDict = {\n",
    "    \"matrix_top_row\": [],\n",
    "    \"matrix_second_row\": [],\n",
    "    \"matrix_third_row\": [],\n",
    "    \"matrix_bottom_row\": [],\n",
    "    \"blob_area\" : [],\n",
    "    \"blob_centroid_x\" : [],\n",
    "    \"blob_centroid_y\" : [],\n",
    "    \"blob_angle\" : [],\n",
    "    \"blob_height\": [],\n",
    "    \"blob_width\": [],\n",
    "    \"label\" : []\n",
    "}\n",
    "\n",
    "for number in numbers:\n",
    "    image = number[1]\n",
    "    blob = getBlobInfo(image)\n",
    "    matrix = createMatrix(image)\n",
    "    numbersDict[\"matrix_top_row\"].append(sum(matrix[0]))\n",
    "    numbersDict[\"matrix_second_row\"].append(sum(matrix[1]))\n",
    "    numbersDict[\"matrix_third_row\"].append(sum(matrix[2]))\n",
    "    numbersDict[\"matrix_bottom_row\"].append(sum(matrix[3]))\n",
    "    numbersDict[\"blob_area\"].append(blob.area())\n",
    "    numbersDict[\"blob_centroid_x\"].append(blob.centroid()[0])\n",
    "    numbersDict[\"blob_centroid_y\"].append(blob.centroid()[1])\n",
    "    numbersDict[\"blob_angle\"].append(blob.angle())\n",
    "    numbersDict[\"blob_height\"].append(blob.height())\n",
    "    numbersDict[\"blob_width\"].append(blob.width())\n",
    "    numbersDict[\"label\"].append(number[0])\n",
    "   \n",
    "df = pd.DataFrame(numbersDict)\n",
    "df = df[[\"matrix_top_row\", \n",
    "         \"matrix_second_row\", \n",
    "         \"matrix_third_row\", \n",
    "         \"matrix_bottom_row\", \n",
    "         \"blob_area\", \n",
    "         \"blob_centroid_x\", \n",
    "         \"blob_centroid_y\",\n",
    "         \"blob_angle\",\n",
    "         \"blob_height\",\n",
    "         \"blob_width\",\n",
    "         \"label\"]]\n",
    "df = df.sort_values(\"label\")"
   ]
  },
  {
   "cell_type": "code",
   "execution_count": 385,
   "metadata": {},
   "outputs": [
    {
     "data": {
      "image/png": "[encoded data removed]",
      "text/plain": [
       "<IPython.core.display.Image object>"
      ]
     },
     "metadata": {},
     "output_type": "display_data"
    },
    {
     "name": "stdout",
     "output_type": "stream",
     "text": [
      "[ 363.5  380.5  423.5  502.5]\n"
     ]
    }
   ],
   "source": [
    "# TEST : 4686: too many blobs\n",
    "\n",
    "testImage = Image(\"../dataset-images/4686.png\")\n",
    "testImage = testImage.binarize().dilate()\n",
    "blobs = testImage.findBlobs()\n",
    "testImage.draw(blobs, autocolor=True)\n",
    "testImage.save(disp)\n",
    "print blobs.area()\n",
    "\n",
    "testNums = []\n",
    "\n",
    "for i in range(4):\n",
    "    testNums.append(testImage.crop(i*size, 0, size, size*(i+1) ))"
   ]
  },
  {
   "cell_type": "code",
   "execution_count": 39,
   "metadata": {},
   "outputs": [],
   "source": [
    "df.to_csv(\"../dataset-numpy/dataset_features.csv\", sep=',', encoding='utf-8')"
   ]
  },
  {
   "cell_type": "code",
   "execution_count": null,
   "metadata": {},
   "outputs": [],
   "source": []
  }
 ],
 "metadata": {
  "kernelspec": {
   "display_name": "Python 2",
   "language": "python",
   "name": "python2"
  },
  "language_info": {
   "codemirror_mode": {
    "name": "ipython",
    "version": 2
   },
   "file_extension": ".py",
   "mimetype": "text/x-python",
   "name": "python",
   "nbconvert_exporter": "python",
   "pygments_lexer": "ipython2",
   "version": "2.7.12"
  }
 },
 "nbformat": 4,
 "nbformat_minor": 2
}
