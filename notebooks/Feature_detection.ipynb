{
 "cells": [
  {
   "cell_type": "markdown",
   "metadata": {},
   "source": [
    "# Feature detection\n",
    "\n",
    "During the feature detection we retrieve all the postal codes and split them into four seperate numbers per postal code. We grayscale the image and extract features. At last we export the features to a csv file."
   ]
  },
  {
   "cell_type": "code",
   "execution_count": 1,
   "metadata": {},
   "outputs": [],
   "source": [
    "# imports\n",
    "from SimpleCV import *\n",
    "import matplotlib.pyplot as plt\n",
    "import pandas as pd\n",
    "import glob"
   ]
  },
  {
   "cell_type": "markdown",
   "metadata": {},
   "source": [
    "### Image subtraction and splitting\n",
    "\n",
    "- We get the images from the folder. We binarize, dilate, and erode to respectively make them black and white to make the number stand out, to make the letters smoother and thicker, and to remove noise. Next we invert them again to make the numbers black and the background white and embiggen the images. We save the image and the inverted image with the correct label.\n",
    "- next we split the postal code in four seperate images of 32x32"
   ]
  },
  {
   "cell_type": "code",
   "execution_count": 2,
   "metadata": {},
   "outputs": [],
   "source": [
    "disp = Display(displaytype='notebook')\n",
    "size = 32\n",
    "\n",
    "imagelist = []\n",
    "horizontalSplit=[]\n",
    "\n",
    "# get all files and add them to tuple with the postal codes\n",
    "for filename in glob.glob(\"../dataset-images/*.png\"): \n",
    "    originalImage = Image(filename)\n",
    "    image = originalImage.binarize().dilate().erode()\n",
    "    invertedImage = image.invert().embiggen( (128,40), Color.WHITE, (3,3))\n",
    "    answer = filename[18:22]\n",
    "    imagelist.append((answer, image, invertedImage))\n",
    "\n",
    "numbers = []\n",
    "   \n",
    "for image in imagelist:\n",
    "    for i in range(4):\n",
    "        sizeHeight = 40\n",
    "        sizeWidth = 32\n",
    "        digit = image[0][(0 if i+1 == 1 else i):i+1]\n",
    "        normalImage = image[1].crop(i*size, 0, size, size*(i+1))\n",
    "        invertedImage = image[2].crop(i*sizeWidth, 0, sizeWidth, sizeHeight*(i+1))\n",
    "        numbers.append((digit, normalImage, invertedImage))"
   ]
  },
  {
   "cell_type": "markdown",
   "metadata": {},
   "source": [
    "## Functions for feature extraction\n",
    "\n",
    "- createMatrix - divide the pictures in pieces of 8x8. *crop.getNumpy* get's a numpy array of the pixels and takes one of the three rgb colours. Because they are grayscale it doesn't matter which one we take. Divide by 255 to see if it's one or zero. one is white and zero is black. Next add up all the 0's and 1's and you get the amount of white pixels in a 8x8 grid. The white pixels are the numbers and the black pixels are the background.\n",
    "- isCentroidPixelBlack - checks if the centroid - weighted center - is black. This means that the center of the number should be empty. If the number is 0 for example, the middle pixel should be black.\n",
    "- getBlob - finds the blob from the image and returns this.\n",
    "- centroidTopBottom - split's the number in half horizontaly and takes the centroid as dividing center. Then checks the centroid of the image and returns 1 if it's black. For example with an 8, the centroid of the two halfs should both be black."
   ]
  },
  {
   "cell_type": "code",
   "execution_count": 3,
   "metadata": {},
   "outputs": [],
   "source": [
    "# divide number images into pieces of 4x4 and create matrix. input image is 32X32\n",
    "def createMatrix(image):\n",
    "    # size of cropped image\n",
    "    size = 4\n",
    "    m = np.zeros((8,8))\n",
    "\n",
    "    # loop trough 8x8\n",
    "    for x in range(8):\n",
    "        for y in range(8):\n",
    "            # crop image to 4x4\n",
    "            crop = image.crop(x*size, y*size, size, size)\n",
    "            # get numpy array with colour and divide by 255\n",
    "            pixels = crop.getNumpy()[:,:,0] / 255\n",
    "            # count the filled pixels\n",
    "            m[x][y] = pixels.sum()\n",
    "    return m.T.astype(int)"
   ]
  },
  {
   "cell_type": "code",
   "execution_count": 4,
   "metadata": {},
   "outputs": [],
   "source": [
    "# crop image to x and y of centroid and get the centroid pixel and the mean color\n",
    "# check if centroid pixel is above the threshold. If above return 1 for true else 0 \n",
    "def isCentroidPixelBlack(image, centroid):\n",
    "    img = image.crop(centroid[0], centroid[1], 1, 1)\n",
    "    color = img.meanColor()\n",
    "    return 0 if color[0] > 200 else 1"
   ]
  },
  {
   "cell_type": "code",
   "execution_count": 5,
   "metadata": {},
   "outputs": [],
   "source": [
    "# get the blob from the image and return\n",
    "def getBlob(image):\n",
    "    image.show()\n",
    "    blobs = image.findBlobs()\n",
    "    image.draw(blobs, autocolor=True)\n",
    "    return blobs[0]\n",
    "\n",
    "# divide image horizontaly, get the centroid and return if they are black or not\n",
    "def centroidTopBottom(image, centroidY, height):    \n",
    "    croppedImageTop = image.crop(0,0,height,centroidY)\n",
    "    blobTop = getBlob(croppedImageTop)\n",
    "    centroidTop = blobTop.centroid()\n",
    "    pixelBlackTop = isCentroidPixelBlack(croppedImageTop,centroidTop)\n",
    "    \n",
    "    croppedImageBottom = image.crop(0,centroidY, height,(height-centroidY))   \n",
    "    blobBottom = getBlob(croppedImageBottom)\n",
    "    centroidBottom = blobBottom.centroid()\n",
    "    pixelBlackBottom = isCentroidPixelBlack(croppedImageBottom,centroidBottom)\n",
    "\n",
    "    return (pixelBlackTop, pixelBlackBottom)"
   ]
  },
  {
   "cell_type": "markdown",
   "metadata": {},
   "source": [
    "## Creating the feature list\n",
    "\n",
    "First we define the dictionary *numbersDict*. Next we will go through all the individual numbers in the list and add the features to *numbersDict*. We then add the columns to the pandas dataframe and add the filled dictionary. Lastly we will reorder the dataframe *df* to make sure the labels will be the last column"
   ]
  },
  {
   "cell_type": "code",
   "execution_count": 6,
   "metadata": {},
   "outputs": [
    {
     "name": "stderr",
     "output_type": "stream",
     "text": [
      "/usr/local/lib/python2.7/dist-packages/SimpleCV/ImageClass.py:1970: FutureWarning: elementwise comparison failed; returning scalar instead, but in the future will perform elementwise comparison\n",
      "  if self._numpy != \"\":\n"
     ]
    }
   ],
   "source": [
    "# define dictionary\n",
    "numbersDict = {\n",
    "    \"blob_area\" : [],\n",
    "    \"blob_centroid_x\" : [],\n",
    "    \"blob_centroid_y\" : [],\n",
    "    \"blob_angle\" : [],\n",
    "    \"blob_height\": [],\n",
    "    \"blob_width\": [],\n",
    "    \"blob_amount_contours\": [],\n",
    "    \"number_of_holes\":[],\n",
    "    \"centroid_is_empty\": [],\n",
    "    \"centroid_top_is_empty\":[],\n",
    "    \"centroid_bottom_is_empty\":[],\n",
    "    \"label\" : []\n",
    "}\n",
    "\n",
    "# add grid elements to dictionary\n",
    "for x in range(8):\n",
    "    for y in range(8):\n",
    "        numbersDict[\"grid_\" + str(x) + \"_\" + str(y)] = []\n",
    "        \n",
    "# loop through all the numbers and add the features to the dictionary\n",
    "for number in numbers:\n",
    "    # the label\n",
    "    digit = number[0]\n",
    "    # the image\n",
    "    image = number[1]\n",
    "    # the inverted image\n",
    "    invertedImage = number[2]\n",
    "    # find the blobs of inverted image and subtract 1, because this is the background blob. \n",
    "    # we do this to see how many holes the number has. A 9 should have one hole and an 8 should have two holes.\n",
    "    invertedBlobCount = len(invertedImage.findBlobs()) -1\n",
    "    blob = getBlob(image)\n",
    "    matrix = createMatrix(image)\n",
    "    centroid = blob.centroid()\n",
    "    split = centroidTopBottom(image, centroid[1], blob.height())\n",
    "    \n",
    "    # add features to list\n",
    "    for x in range(8):\n",
    "        for y in range(8):\n",
    "            numbersDict[\"grid_\" + str(x) + \"_\" + str(y)].append(matrix[y][x])\n",
    "    numbersDict[\"blob_area\"].append(blob.area())\n",
    "    numbersDict[\"blob_centroid_x\"].append(centroid[0])\n",
    "    numbersDict[\"blob_centroid_y\"].append(centroid[1])\n",
    "    numbersDict[\"blob_angle\"].append(blob.angle())\n",
    "    numbersDict[\"blob_height\"].append(blob.height())\n",
    "    numbersDict[\"blob_width\"].append(blob.width())\n",
    "    numbersDict[\"blob_amount_contours\"].append(len(blob.contour()))\n",
    "    numbersDict[\"number_of_holes\"].append(invertedBlobCount)\n",
    "    numbersDict[\"centroid_is_empty\"].append(isCentroidPixelBlack(image, centroid))\n",
    "    numbersDict[\"centroid_top_is_empty\"].append(split[0])\n",
    "    numbersDict[\"centroid_bottom_is_empty\"].append(split[1])\n",
    "    numbersDict[\"label\"].append(number[0])    \n",
    "\n",
    "# create dataframe\n",
    "df = pd.DataFrame(numbersDict)\n",
    "temp = list(df)\n",
    "\n",
    "# move label to end of list\n",
    "temp.insert(len(temp)-1, temp.pop(temp.index('label')))\n",
    "\n",
    "# use loc to reorder columns\n",
    "df = df.loc[:, temp]\n",
    "\n",
    "# sort by label ascending\n",
    "df = df.sort_values(\"label\")"
   ]
  },
  {
   "cell_type": "code",
   "execution_count": 7,
   "metadata": {},
   "outputs": [],
   "source": [
    "# export to csv\n",
    "df.to_csv(\"../dataset-numpy/dataset_features_v3.csv\", sep=',', encoding='utf-8', index=False)"
   ]
  }
 ],
 "metadata": {
  "kernelspec": {
   "display_name": "Python 2",
   "language": "python",
   "name": "python2"
  },
  "language_info": {
   "codemirror_mode": {
    "name": "ipython",
    "version": 2
   },
   "file_extension": ".py",
   "mimetype": "text/x-python",
   "name": "python",
   "nbconvert_exporter": "python",
   "pygments_lexer": "ipython2",
   "version": "2.7.12"
  }
 },
 "nbformat": 4,
 "nbformat_minor": 2
}
