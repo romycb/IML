{
 "cells": [
  {
   "cell_type": "code",
   "execution_count": null,
   "metadata": {},
   "outputs": [],
   "source": [
    "# foto splitsen in 4 van 32x32\n",
    "# \n",
    "\n",
    "from SimpleCV import *\n",
    "from IPython.display import HTML\n",
    "import matplotlib as plt\n",
    "import matplotlib.image as mpimg\n",
    "import pandas as pd\n",
    "import cv2\n",
    "import glob"
   ]
  },
  {
   "cell_type": "code",
   "execution_count": 228,
   "metadata": {},
   "outputs": [
    {
     "name": "stdout",
     "output_type": "stream",
     "text": [
      "4\n"
     ]
    },
    {
     "data": {
      "image/png": "[encoded data removed]",
      "text/plain": [
       "<IPython.core.display.Image object>"
      ]
     },
     "metadata": {},
     "output_type": "display_data"
    },
    {
     "name": "stdout",
     "output_type": "stream",
     "text": [
      "[ 246.5]\n",
      "(14.435429344151453, 18.384043272481403)\n",
      "-62.3540229797\n"
     ]
    }
   ],
   "source": [
    "disp = Display(displaytype='notebook')\n",
    "size = 32\n",
    "\n",
    "# postalcode = Image ('../dataset-images/1276.png')\n",
    "imagelist = []\n",
    "    \n",
    "for shapefile in glob.glob(\"../dataset-images/*.png\"): \n",
    "    image = Image(shapefile)\n",
    "#     image.save()\n",
    "    image = image.binarize()\n",
    "    answer = shapefile[18:22]\n",
    "    imagelist.append((answer, image))\n",
    "    \n",
    "numbers = []    \n",
    "for image in imagelist:\n",
    "    first = image[0][:1]\n",
    "    numbers.append((first, image[1].crop(0, 0, size, size)))\n",
    "    \n",
    "    second = image[0][1:2]\n",
    "    numbers.append((second, image[1].crop(size, 0, size, size*2)))\n",
    "    \n",
    "    third = image[0][2:3]\n",
    "    numbers.append((third, image[1].crop(size*2, 0, size, size*3)))\n",
    "   \n",
    "    fourth = image[0][3:4]\n",
    "    numbers.append((fourth, image[1].crop(size*3, 0, size, size*4)))\n",
    "    \n",
    "\n",
    "# for number in numbers:\n",
    "print numbers[99][0]\n",
    "num = numbers[6][1]\n",
    "num.save(disp)\n",
    "blobs = num.findBlobs()\n",
    "num.draw(blobs, autocolor=True)\n",
    "print blobs.area()\n",
    "blob = blobs[0] \n",
    "# center of the blob\n",
    "# bcenter = blobs.center()\n",
    "# print bcenter[0]\n",
    "center = num.crop(bcenter[0][0], bcenter[0][1], 1, 1)\n",
    "\n",
    "print blob.centroid()\n",
    "\n",
    "angle = blob.angle()\n",
    "print angle"
   ]
  },
  {
   "cell_type": "code",
   "execution_count": 241,
   "metadata": {},
   "outputs": [
    {
     "data": {
      "image/png": "[encoded data removed]",
      "text/plain": [
       "<IPython.core.display.Image object>"
      ]
     },
     "metadata": {},
     "output_type": "display_data"
    },
    {
     "data": {
      "image/png": "[encoded data removed]",
      "text/plain": [
       "<IPython.core.display.Image object>"
      ]
     },
     "metadata": {},
     "output_type": "display_data"
    },
    {
     "data": {
      "image/png": "[encoded data removed]",
      "text/plain": [
       "<IPython.core.display.Image object>"
      ]
     },
     "metadata": {},
     "output_type": "display_data"
    },
    {
     "data": {
      "image/png": "[encoded data removed]",
      "text/plain": [
       "<IPython.core.display.Image object>"
      ]
     },
     "metadata": {},
     "output_type": "display_data"
    },
    {
     "data": {
      "image/png": "[encoded data removed]",
      "text/plain": [
       "<IPython.core.display.Image object>"
      ]
     },
     "metadata": {},
     "output_type": "display_data"
    },
    {
     "data": {
      "image/png": "[encoded data removed]",
      "text/plain": [
       "<IPython.core.display.Image object>"
      ]
     },
     "metadata": {},
     "output_type": "display_data"
    },
    {
     "data": {
      "image/png": "[encoded data removed]",
      "text/plain": [
       "<IPython.core.display.Image object>"
      ]
     },
     "metadata": {},
     "output_type": "display_data"
    },
    {
     "data": {
      "image/png": "[encoded data removed]",
      "text/plain": [
       "<IPython.core.display.Image object>"
      ]
     },
     "metadata": {},
     "output_type": "display_data"
    },
    {
     "data": {
      "image/png": "[encoded data removed]",
      "text/plain": [
       "<IPython.core.display.Image object>"
      ]
     },
     "metadata": {},
     "output_type": "display_data"
    },
    {
     "data": {
      "image/png": "[encoded data removed]",
      "text/plain": [
       "<IPython.core.display.Image object>"
      ]
     },
     "metadata": {},
     "output_type": "display_data"
    },
    {
     "data": {
      "image/png": "[encoded data removed]",
      "text/plain": [
       "<IPython.core.display.Image object>"
      ]
     },
     "metadata": {},
     "output_type": "display_data"
    },
    {
     "data": {
      "image/png": "[encoded data removed]",
      "text/plain": [
       "<IPython.core.display.Image object>"
      ]
     },
     "metadata": {},
     "output_type": "display_data"
    },
    {
     "data": {
      "image/png": "[encoded data removed]",
      "text/plain": [
       "<IPython.core.display.Image object>"
      ]
     },
     "metadata": {},
     "output_type": "display_data"
    },
    {
     "data": {
      "image/png": "[encoded data removed]",
      "text/plain": [
       "<IPython.core.display.Image object>"
      ]
     },
     "metadata": {},
     "output_type": "display_data"
    },
    {
     "data": {
      "image/png": "[encoded data removed]",
      "text/plain": [
       "<IPython.core.display.Image object>"
      ]
     },
     "metadata": {},
     "output_type": "display_data"
    },
    {
     "data": {
      "image/png": "[encoded data removed]",
      "text/plain": [
       "<IPython.core.display.Image object>"
      ]
     },
     "metadata": {},
     "output_type": "display_data"
    },
    {
     "name": "stdout",
     "output_type": "stream",
     "text": [
      "[[ 0.  0.  1.  0.]\n",
      " [ 0.  1.  0.  0.]\n",
      " [ 0.  1.  1.  0.]\n",
      " [ 0.  1.  1.  0.]]\n"
     ]
    }
   ],
   "source": [
    "# divide images into pieces of 4x4\n",
    "size = 8\n",
    "m = np.zeros((4,4))\n",
    "\n",
    "pieces = []\n",
    "for y in range(4):\n",
    "    for x in range(4):\n",
    "        crop = num.crop(x*size, y*size, size, size)\n",
    "        crop.save(disp)\n",
    "        pieces.append(crop)\n",
    "        m[x][y] = 1 if crop.meanColor()[0] > 80 else 0\n",
    "\n",
    "print m.T"
   ]
  },
  {
   "cell_type": "code",
   "execution_count": null,
   "metadata": {},
   "outputs": [],
   "source": []
  },
  {
   "cell_type": "code",
   "execution_count": null,
   "metadata": {},
   "outputs": [],
   "source": []
  }
 ],
 "metadata": {
  "kernelspec": {
   "display_name": "Python 2",
   "language": "python",
   "name": "python2"
  },
  "language_info": {
   "codemirror_mode": {
    "name": "ipython",
    "version": 2
   },
   "file_extension": ".py",
   "mimetype": "text/x-python",
   "name": "python",
   "nbconvert_exporter": "python",
   "pygments_lexer": "ipython2",
   "version": "2.7.12"
  }
 },
 "nbformat": 4,
 "nbformat_minor": 2
}
