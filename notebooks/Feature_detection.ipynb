{
 "cells": [
  {
   "cell_type": "code",
   "execution_count": 1,
   "metadata": {},
   "outputs": [],
   "source": [
    "from SimpleCV import *\n",
    "from IPython.display import HTML\n",
    "import matplotlib.pyplot as plt\n",
    "import pandas as pd\n",
    "import cv2\n",
    "import glob"
   ]
  },
  {
   "cell_type": "markdown",
   "metadata": {},
   "source": [
    "toevoegingen\n",
    "\n",
    "- matrix misschien veranderen naar/toevoegen: hoeveel pixels in stukje zwart\n",
    "- blob.contours -- aantal hoeken"
   ]
  },
  {
   "cell_type": "code",
   "execution_count": 2,
   "metadata": {},
   "outputs": [],
   "source": [
    "disp = Display(displaytype='notebook')\n",
    "size = 32\n",
    "\n",
    "imagelist = []\n",
    "horizontalSplit=[]\n",
    "\n",
    "# get all files and add them to tuple with the postal codes\n",
    "for filename in glob.glob(\"../dataset-images/*.png\"): \n",
    "    originalImage = Image(filename)\n",
    "    image = originalImage.binarize().dilate().erode()\n",
    "    invertedImage = image.invert().embiggen( (128,40), Color.WHITE, (3,3))\n",
    "    answer = filename[18:22]\n",
    "    imagelist.append((answer, image, invertedImage))\n",
    "\n",
    "numbers = []\n",
    "   \n",
    "for image in imagelist:\n",
    "    for i in range(4):\n",
    "        sizeHeight = 40\n",
    "        sizeWidth = 32\n",
    "        digit = image[0][(0 if i+1 == 1 else i):i+1]\n",
    "        normalImage = image[1].crop(i*size, 0, size, size*(i+1))\n",
    "        invertedImage = image[2].crop(i*sizeWidth, 0, sizeWidth, sizeHeight*(i+1))\n",
    "        numbers.append((digit, normalImage, invertedImage))"
   ]
  },
  {
   "cell_type": "code",
   "execution_count": 3,
   "metadata": {},
   "outputs": [],
   "source": [
    "# divide number images into pieces of 4x4 and create matrix\n",
    "def createMatrix(image):\n",
    "    size = 8\n",
    "    m = np.zeros((4,4))\n",
    "\n",
    "    pieces = []\n",
    "    for y in range(4):\n",
    "        for x in range(4):\n",
    "            crop = image.crop(x*size, y*size, size, size)\n",
    "            pieces.append(crop)\n",
    "            m[x][y] = 1 if crop.meanColor()[0] > 80 else 0\n",
    "    return m.T"
   ]
  },
  {
   "cell_type": "code",
   "execution_count": 4,
   "metadata": {},
   "outputs": [],
   "source": [
    "# check if centroid pixel is black. If black return 1 else 0 \n",
    "def isCentroidPixelBlack(image, centroid):\n",
    "    img = image.crop(centroid[0], centroid[1], 1, 1)\n",
    "    color = img.meanColor()\n",
    "    return 0 if color[0] > 200 else 1"
   ]
  },
  {
   "cell_type": "code",
   "execution_count": 5,
   "metadata": {},
   "outputs": [],
   "source": [
    "# get the blob from the image\n",
    "def getBlob(image):\n",
    "    image.show()\n",
    "    blobs = image.findBlobs()\n",
    "    image.draw(blobs, autocolor=True)\n",
    "    return blobs[0]\n",
    "\n",
    "def splitImage(image, centroidY, height):    \n",
    "    croppedImageTop = image.crop(0,0,height,centroidY)\n",
    "    blobTop = getBlob(croppedImageTop)\n",
    "    centroidTop = blobTop.centroid()\n",
    "    pixelBlackTop = isCentroidPixelBlack(croppedImageTop,centroidTop)\n",
    "    \n",
    "    croppedImageBottom = image.crop(0,centroidY, height,(height-centroidY))   \n",
    "    blobBottom = getBlob(croppedImageBottom)\n",
    "    centroidBottom = blobBottom.centroid()\n",
    "    pixelBlackBottom = isCentroidPixelBlack(croppedImageBottom,centroidBottom)\n",
    "\n",
    "    return (pixelBlackTop, pixelBlackBottom)\n",
    "\n",
    "\n",
    "########### move to analysis ######## \n",
    "def createHeatMap(image):\n",
    "    size = 8\n",
    "    m = np.zeros((4,4))\n",
    "    pieces = []\n",
    "    for y in range(4):\n",
    "        for x in range(4):\n",
    "            crop = image.crop(x*size, y*size, size, size)\n",
    "            pieces.append(crop)\n",
    "            m[x][y] = crop.meanColor()[0]\n",
    "    plt.imshow(m.T, cmap='Blues', interpolation='nearest')\n",
    "    plt.show()"
   ]
  },
  {
   "cell_type": "code",
   "execution_count": 6,
   "metadata": {
    "scrolled": false
   },
   "outputs": [
    {
     "data": {
      "image/png": "[encoded data removed]",
      "text/plain": [
       "<IPython.core.display.Image object>"
      ]
     },
     "metadata": {},
     "output_type": "display_data"
    },
    {
     "data": {
      "image/png": "[encoded data removed]",
      "text/plain": [
       "<IPython.core.display.Image object>"
      ]
     },
     "metadata": {},
     "output_type": "display_data"
    },
    {
     "data": {
      "image/png": "[encoded data removed]",
      "text/plain": [
       "<IPython.core.display.Image object>"
      ]
     },
     "metadata": {},
     "output_type": "display_data"
    },
    {
     "data": {
      "image/png": "[encoded data removed]",
      "text/plain": [
       "<IPython.core.display.Image object>"
      ]
     },
     "metadata": {},
     "output_type": "display_data"
    },
    {
     "data": {
      "image/png": "[encoded data removed]",
      "text/plain": [
       "<IPython.core.display.Image object>"
      ]
     },
     "metadata": {},
     "output_type": "display_data"
    },
    {
     "data": {
      "image/png": "[encoded data removed]",
      "text/plain": [
       "<IPython.core.display.Image object>"
      ]
     },
     "metadata": {},
     "output_type": "display_data"
    },
    {
     "data": {
      "image/png": "[encoded data removed]",
      "text/plain": [
       "<IPython.core.display.Image object>"
      ]
     },
     "metadata": {},
     "output_type": "display_data"
    },
    {
     "data": {
      "image/png": "[encoded data removed]",
      "text/plain": [
       "<IPython.core.display.Image object>"
      ]
     },
     "metadata": {},
     "output_type": "display_data"
    },
    {
     "data": {
      "image/png": "[encoded data removed]",
      "text/plain": [
       "<IPython.core.display.Image object>"
      ]
     },
     "metadata": {},
     "output_type": "display_data"
    },
    {
     "data": {
      "image/png": "[encoded data removed]",
      "text/plain": [
       "<IPython.core.display.Image object>"
      ]
     },
     "metadata": {},
     "output_type": "display_data"
    },
    {
     "data": {
      "image/png": "[encoded data removed]",
      "text/plain": [
       "<IPython.core.display.Image object>"
      ]
     },
     "metadata": {},
     "output_type": "display_data"
    },
    {
     "ename": "KeyboardInterrupt",
     "evalue": "",
     "output_type": "error",
     "traceback": [
      "\u001b[0;31m---------------------------------------------------------------------------\u001b[0m",
      "\u001b[0;31mKeyboardInterrupt\u001b[0m                         Traceback (most recent call last)",
      "\u001b[0;32m<ipython-input-6-96696f50e808>\u001b[0m in \u001b[0;36m<module>\u001b[0;34m()\u001b[0m\n\u001b[1;32m     38\u001b[0m     \u001b[0mcentroid\u001b[0m \u001b[0;34m=\u001b[0m \u001b[0mblob\u001b[0m\u001b[0;34m.\u001b[0m\u001b[0mcentroid\u001b[0m\u001b[0;34m(\u001b[0m\u001b[0;34m)\u001b[0m\u001b[0;34m\u001b[0m\u001b[0m\n\u001b[1;32m     39\u001b[0m     \u001b[0msplit\u001b[0m \u001b[0;34m=\u001b[0m \u001b[0msplitImage\u001b[0m\u001b[0;34m(\u001b[0m\u001b[0mimage\u001b[0m\u001b[0;34m,\u001b[0m \u001b[0mcentroid\u001b[0m\u001b[0;34m[\u001b[0m\u001b[0;36m1\u001b[0m\u001b[0;34m]\u001b[0m\u001b[0;34m,\u001b[0m \u001b[0mblob\u001b[0m\u001b[0;34m.\u001b[0m\u001b[0mheight\u001b[0m\u001b[0;34m(\u001b[0m\u001b[0;34m)\u001b[0m\u001b[0;34m)\u001b[0m\u001b[0;34m\u001b[0m\u001b[0m\n\u001b[0;32m---> 40\u001b[0;31m     \u001b[0mimage\u001b[0m\u001b[0;34m.\u001b[0m\u001b[0msave\u001b[0m\u001b[0;34m(\u001b[0m\u001b[0mdisp\u001b[0m\u001b[0;34m)\u001b[0m\u001b[0;34m\u001b[0m\u001b[0m\n\u001b[0m\u001b[1;32m     41\u001b[0m     \u001b[0;32mfor\u001b[0m \u001b[0my\u001b[0m \u001b[0;32min\u001b[0m \u001b[0mrange\u001b[0m\u001b[0;34m(\u001b[0m\u001b[0;36m4\u001b[0m\u001b[0;34m)\u001b[0m\u001b[0;34m:\u001b[0m\u001b[0;34m\u001b[0m\u001b[0m\n\u001b[1;32m     42\u001b[0m         \u001b[0;32mfor\u001b[0m \u001b[0mx\u001b[0m \u001b[0;32min\u001b[0m \u001b[0mrange\u001b[0m\u001b[0;34m(\u001b[0m\u001b[0;36m4\u001b[0m\u001b[0;34m)\u001b[0m\u001b[0;34m:\u001b[0m\u001b[0;34m\u001b[0m\u001b[0m\n",
      "\u001b[0;32m/usr/local/lib/python2.7/dist-packages/SimpleCV/ImageClass.pyc\u001b[0m in \u001b[0;36msave\u001b[0;34m(self, filehandle_or_filename, mode, verbose, temp, path, filename, cleanTemp, **params)\u001b[0m\n\u001b[1;32m   2307\u001b[0m                     \u001b[0mtf\u001b[0m\u001b[0;34m.\u001b[0m\u001b[0mclose\u001b[0m\u001b[0;34m(\u001b[0m\u001b[0;34m)\u001b[0m\u001b[0;34m\u001b[0m\u001b[0m\n\u001b[1;32m   2308\u001b[0m                     \u001b[0mself\u001b[0m\u001b[0;34m.\u001b[0m\u001b[0msave\u001b[0m\u001b[0;34m(\u001b[0m\u001b[0mloc\u001b[0m\u001b[0;34m)\u001b[0m\u001b[0;34m\u001b[0m\u001b[0m\n\u001b[0;32m-> 2309\u001b[0;31m                     \u001b[0mIdisplay\u001b[0m\u001b[0;34m.\u001b[0m\u001b[0mdisplay\u001b[0m\u001b[0;34m(\u001b[0m\u001b[0mIPImage\u001b[0m\u001b[0;34m(\u001b[0m\u001b[0mfilename\u001b[0m\u001b[0;34m=\u001b[0m\u001b[0mloc\u001b[0m\u001b[0;34m)\u001b[0m\u001b[0;34m)\u001b[0m\u001b[0;34m\u001b[0m\u001b[0m\n\u001b[0m\u001b[1;32m   2310\u001b[0m                     \u001b[0;32mreturn\u001b[0m\u001b[0;34m\u001b[0m\u001b[0m\n\u001b[1;32m   2311\u001b[0m                 \u001b[0;32melse\u001b[0m\u001b[0;34m:\u001b[0m\u001b[0;34m\u001b[0m\u001b[0m\n",
      "\u001b[0;32m/usr/local/lib/python2.7/dist-packages/IPython/core/display.pyc\u001b[0m in \u001b[0;36mdisplay\u001b[0;34m(*objs, **kwargs)\u001b[0m\n\u001b[1;32m    316\u001b[0m                 \u001b[0;31m# kwarg-specified metadata gets precedence\u001b[0m\u001b[0;34m\u001b[0m\u001b[0;34m\u001b[0m\u001b[0m\n\u001b[1;32m    317\u001b[0m                 \u001b[0m_merge\u001b[0m\u001b[0;34m(\u001b[0m\u001b[0mmd_dict\u001b[0m\u001b[0;34m,\u001b[0m \u001b[0mmetadata\u001b[0m\u001b[0;34m)\u001b[0m\u001b[0;34m\u001b[0m\u001b[0m\n\u001b[0;32m--> 318\u001b[0;31m             \u001b[0mpublish_display_data\u001b[0m\u001b[0;34m(\u001b[0m\u001b[0mdata\u001b[0m\u001b[0;34m=\u001b[0m\u001b[0mformat_dict\u001b[0m\u001b[0;34m,\u001b[0m \u001b[0mmetadata\u001b[0m\u001b[0;34m=\u001b[0m\u001b[0mmd_dict\u001b[0m\u001b[0;34m,\u001b[0m \u001b[0;34m**\u001b[0m\u001b[0mkwargs\u001b[0m\u001b[0;34m)\u001b[0m\u001b[0;34m\u001b[0m\u001b[0m\n\u001b[0m\u001b[1;32m    319\u001b[0m     \u001b[0;32mif\u001b[0m \u001b[0mdisplay_id\u001b[0m\u001b[0;34m:\u001b[0m\u001b[0;34m\u001b[0m\u001b[0m\n\u001b[1;32m    320\u001b[0m         \u001b[0;32mreturn\u001b[0m \u001b[0mDisplayHandle\u001b[0m\u001b[0;34m(\u001b[0m\u001b[0mdisplay_id\u001b[0m\u001b[0;34m)\u001b[0m\u001b[0;34m\u001b[0m\u001b[0m\n",
      "\u001b[0;32m/usr/local/lib/python2.7/dist-packages/IPython/core/display.pyc\u001b[0m in \u001b[0;36mpublish_display_data\u001b[0;34m(data, metadata, source, **kwargs)\u001b[0m\n\u001b[1;32m    130\u001b[0m         \u001b[0mdata\u001b[0m\u001b[0;34m=\u001b[0m\u001b[0mdata\u001b[0m\u001b[0;34m,\u001b[0m\u001b[0;34m\u001b[0m\u001b[0m\n\u001b[1;32m    131\u001b[0m         \u001b[0mmetadata\u001b[0m\u001b[0;34m=\u001b[0m\u001b[0mmetadata\u001b[0m\u001b[0;34m,\u001b[0m\u001b[0;34m\u001b[0m\u001b[0m\n\u001b[0;32m--> 132\u001b[0;31m         \u001b[0;34m**\u001b[0m\u001b[0mkwargs\u001b[0m\u001b[0;34m\u001b[0m\u001b[0m\n\u001b[0m\u001b[1;32m    133\u001b[0m     )\n\u001b[1;32m    134\u001b[0m \u001b[0;34m\u001b[0m\u001b[0m\n",
      "\u001b[0;32m/usr/local/lib/python2.7/dist-packages/ipykernel/zmqshell.pyc\u001b[0m in \u001b[0;36mpublish\u001b[0;34m(self, data, metadata, source, transient, update)\u001b[0m\n\u001b[1;32m    110\u001b[0m             \u001b[0mIf\u001b[0m \u001b[0mTrue\u001b[0m\u001b[0;34m,\u001b[0m \u001b[0msend\u001b[0m \u001b[0man\u001b[0m \u001b[0mupdate_display_data\u001b[0m \u001b[0mmessage\u001b[0m \u001b[0minstead\u001b[0m \u001b[0mof\u001b[0m \u001b[0mdisplay_data\u001b[0m\u001b[0;34m.\u001b[0m\u001b[0;34m\u001b[0m\u001b[0m\n\u001b[1;32m    111\u001b[0m         \"\"\"\n\u001b[0;32m--> 112\u001b[0;31m         \u001b[0mself\u001b[0m\u001b[0;34m.\u001b[0m\u001b[0m_flush_streams\u001b[0m\u001b[0;34m(\u001b[0m\u001b[0;34m)\u001b[0m\u001b[0;34m\u001b[0m\u001b[0m\n\u001b[0m\u001b[1;32m    113\u001b[0m         \u001b[0;32mif\u001b[0m \u001b[0mmetadata\u001b[0m \u001b[0;32mis\u001b[0m \u001b[0mNone\u001b[0m\u001b[0;34m:\u001b[0m\u001b[0;34m\u001b[0m\u001b[0m\n\u001b[1;32m    114\u001b[0m             \u001b[0mmetadata\u001b[0m \u001b[0;34m=\u001b[0m \u001b[0;34m{\u001b[0m\u001b[0;34m}\u001b[0m\u001b[0;34m\u001b[0m\u001b[0m\n",
      "\u001b[0;32m/usr/local/lib/python2.7/dist-packages/ipykernel/zmqshell.pyc\u001b[0m in \u001b[0;36m_flush_streams\u001b[0;34m(self)\u001b[0m\n\u001b[1;32m     78\u001b[0m         \u001b[0;34m\"\"\"flush IO Streams prior to display\"\"\"\u001b[0m\u001b[0;34m\u001b[0m\u001b[0m\n\u001b[1;32m     79\u001b[0m         \u001b[0msys\u001b[0m\u001b[0;34m.\u001b[0m\u001b[0mstdout\u001b[0m\u001b[0;34m.\u001b[0m\u001b[0mflush\u001b[0m\u001b[0;34m(\u001b[0m\u001b[0;34m)\u001b[0m\u001b[0;34m\u001b[0m\u001b[0m\n\u001b[0;32m---> 80\u001b[0;31m         \u001b[0msys\u001b[0m\u001b[0;34m.\u001b[0m\u001b[0mstderr\u001b[0m\u001b[0;34m.\u001b[0m\u001b[0mflush\u001b[0m\u001b[0;34m(\u001b[0m\u001b[0;34m)\u001b[0m\u001b[0;34m\u001b[0m\u001b[0m\n\u001b[0m\u001b[1;32m     81\u001b[0m \u001b[0;34m\u001b[0m\u001b[0m\n\u001b[1;32m     82\u001b[0m     \u001b[0;34m@\u001b[0m\u001b[0mdefault\u001b[0m\u001b[0;34m(\u001b[0m\u001b[0;34m'_thread_local'\u001b[0m\u001b[0;34m)\u001b[0m\u001b[0;34m\u001b[0m\u001b[0m\n",
      "\u001b[0;32m/usr/local/lib/python2.7/dist-packages/ipykernel/iostream.pyc\u001b[0m in \u001b[0;36mflush\u001b[0;34m(self)\u001b[0m\n\u001b[1;32m    345\u001b[0m             \u001b[0;32mif\u001b[0m \u001b[0;32mnot\u001b[0m \u001b[0mimport_lock_held\u001b[0m\u001b[0;34m(\u001b[0m\u001b[0;34m)\u001b[0m\u001b[0;34m:\u001b[0m\u001b[0;34m\u001b[0m\u001b[0m\n\u001b[1;32m    346\u001b[0m                 \u001b[0mevt\u001b[0m \u001b[0;34m=\u001b[0m \u001b[0mthreading\u001b[0m\u001b[0;34m.\u001b[0m\u001b[0mEvent\u001b[0m\u001b[0;34m(\u001b[0m\u001b[0;34m)\u001b[0m\u001b[0;34m\u001b[0m\u001b[0m\n\u001b[0;32m--> 347\u001b[0;31m                 \u001b[0mself\u001b[0m\u001b[0;34m.\u001b[0m\u001b[0mpub_thread\u001b[0m\u001b[0;34m.\u001b[0m\u001b[0mschedule\u001b[0m\u001b[0;34m(\u001b[0m\u001b[0mevt\u001b[0m\u001b[0;34m.\u001b[0m\u001b[0mset\u001b[0m\u001b[0;34m)\u001b[0m\u001b[0;34m\u001b[0m\u001b[0m\n\u001b[0m\u001b[1;32m    348\u001b[0m                 \u001b[0;31m# and give a timeout to avoid\u001b[0m\u001b[0;34m\u001b[0m\u001b[0;34m\u001b[0m\u001b[0m\n\u001b[1;32m    349\u001b[0m                 \u001b[0;32mif\u001b[0m \u001b[0;32mnot\u001b[0m \u001b[0mevt\u001b[0m\u001b[0;34m.\u001b[0m\u001b[0mwait\u001b[0m\u001b[0;34m(\u001b[0m\u001b[0mself\u001b[0m\u001b[0;34m.\u001b[0m\u001b[0mflush_timeout\u001b[0m\u001b[0;34m)\u001b[0m\u001b[0;34m:\u001b[0m\u001b[0;34m\u001b[0m\u001b[0m\n",
      "\u001b[0;32m/usr/local/lib/python2.7/dist-packages/ipykernel/iostream.pyc\u001b[0m in \u001b[0;36mschedule\u001b[0;34m(self, f)\u001b[0m\n\u001b[1;32m    201\u001b[0m             \u001b[0mself\u001b[0m\u001b[0;34m.\u001b[0m\u001b[0m_events\u001b[0m\u001b[0;34m.\u001b[0m\u001b[0mappend\u001b[0m\u001b[0;34m(\u001b[0m\u001b[0mf\u001b[0m\u001b[0;34m)\u001b[0m\u001b[0;34m\u001b[0m\u001b[0m\n\u001b[1;32m    202\u001b[0m             \u001b[0;31m# wake event thread (message content is ignored)\u001b[0m\u001b[0;34m\u001b[0m\u001b[0;34m\u001b[0m\u001b[0m\n\u001b[0;32m--> 203\u001b[0;31m             \u001b[0mself\u001b[0m\u001b[0;34m.\u001b[0m\u001b[0m_event_pipe\u001b[0m\u001b[0;34m.\u001b[0m\u001b[0msend\u001b[0m\u001b[0;34m(\u001b[0m\u001b[0;34mb''\u001b[0m\u001b[0;34m)\u001b[0m\u001b[0;34m\u001b[0m\u001b[0m\n\u001b[0m\u001b[1;32m    204\u001b[0m         \u001b[0;32melse\u001b[0m\u001b[0;34m:\u001b[0m\u001b[0;34m\u001b[0m\u001b[0m\n\u001b[1;32m    205\u001b[0m             \u001b[0mf\u001b[0m\u001b[0;34m(\u001b[0m\u001b[0;34m)\u001b[0m\u001b[0;34m\u001b[0m\u001b[0m\n",
      "\u001b[0;32m/usr/local/lib/python2.7/dist-packages/zmq/sugar/socket.pyc\u001b[0m in \u001b[0;36msend\u001b[0;34m(self, data, flags, copy, track, routing_id, group)\u001b[0m\n\u001b[1;32m    390\u001b[0m                                  copy_threshold=self.copy_threshold)\n\u001b[1;32m    391\u001b[0m             \u001b[0mdata\u001b[0m\u001b[0;34m.\u001b[0m\u001b[0mgroup\u001b[0m \u001b[0;34m=\u001b[0m \u001b[0mgroup\u001b[0m\u001b[0;34m\u001b[0m\u001b[0m\n\u001b[0;32m--> 392\u001b[0;31m         \u001b[0;32mreturn\u001b[0m \u001b[0msuper\u001b[0m\u001b[0;34m(\u001b[0m\u001b[0mSocket\u001b[0m\u001b[0;34m,\u001b[0m \u001b[0mself\u001b[0m\u001b[0;34m)\u001b[0m\u001b[0;34m.\u001b[0m\u001b[0msend\u001b[0m\u001b[0;34m(\u001b[0m\u001b[0mdata\u001b[0m\u001b[0;34m,\u001b[0m \u001b[0mflags\u001b[0m\u001b[0;34m=\u001b[0m\u001b[0mflags\u001b[0m\u001b[0;34m,\u001b[0m \u001b[0mcopy\u001b[0m\u001b[0;34m=\u001b[0m\u001b[0mcopy\u001b[0m\u001b[0;34m,\u001b[0m \u001b[0mtrack\u001b[0m\u001b[0;34m=\u001b[0m\u001b[0mtrack\u001b[0m\u001b[0;34m)\u001b[0m\u001b[0;34m\u001b[0m\u001b[0m\n\u001b[0m\u001b[1;32m    393\u001b[0m \u001b[0;34m\u001b[0m\u001b[0m\n\u001b[1;32m    394\u001b[0m     \u001b[0;32mdef\u001b[0m \u001b[0msend_multipart\u001b[0m\u001b[0;34m(\u001b[0m\u001b[0mself\u001b[0m\u001b[0;34m,\u001b[0m \u001b[0mmsg_parts\u001b[0m\u001b[0;34m,\u001b[0m \u001b[0mflags\u001b[0m\u001b[0;34m=\u001b[0m\u001b[0;36m0\u001b[0m\u001b[0;34m,\u001b[0m \u001b[0mcopy\u001b[0m\u001b[0;34m=\u001b[0m\u001b[0mTrue\u001b[0m\u001b[0;34m,\u001b[0m \u001b[0mtrack\u001b[0m\u001b[0;34m=\u001b[0m\u001b[0mFalse\u001b[0m\u001b[0;34m,\u001b[0m \u001b[0;34m**\u001b[0m\u001b[0mkwargs\u001b[0m\u001b[0;34m)\u001b[0m\u001b[0;34m:\u001b[0m\u001b[0;34m\u001b[0m\u001b[0m\n",
      "\u001b[0;32mzmq/backend/cython/socket.pyx\u001b[0m in \u001b[0;36mzmq.backend.cython.socket.Socket.send\u001b[0;34m()\u001b[0m\n",
      "\u001b[0;32mzmq/backend/cython/socket.pyx\u001b[0m in \u001b[0;36mzmq.backend.cython.socket.Socket.send\u001b[0;34m()\u001b[0m\n",
      "\u001b[0;32mzmq/backend/cython/socket.pyx\u001b[0m in \u001b[0;36mzmq.backend.cython.socket._send_copy\u001b[0;34m()\u001b[0m\n",
      "\u001b[0;32m/usr/local/lib/python2.7/dist-packages/zmq/backend/cython/checkrc.pxd\u001b[0m in \u001b[0;36mzmq.backend.cython.checkrc._check_rc\u001b[0;34m()\u001b[0m\n\u001b[1;32m     10\u001b[0m     \"\"\"\n\u001b[1;32m     11\u001b[0m     \u001b[0mcdef\u001b[0m \u001b[0mint\u001b[0m \u001b[0merrno\u001b[0m \u001b[0;34m=\u001b[0m \u001b[0mzmq_errno\u001b[0m\u001b[0;34m(\u001b[0m\u001b[0;34m)\u001b[0m\u001b[0;34m\u001b[0m\u001b[0m\n\u001b[0;32m---> 12\u001b[0;31m     \u001b[0mPyErr_CheckSignals\u001b[0m\u001b[0;34m(\u001b[0m\u001b[0;34m)\u001b[0m\u001b[0;34m\u001b[0m\u001b[0m\n\u001b[0m\u001b[1;32m     13\u001b[0m     \u001b[0;32mif\u001b[0m \u001b[0mrc\u001b[0m \u001b[0;34m==\u001b[0m \u001b[0;34m-\u001b[0m\u001b[0;36m1\u001b[0m\u001b[0;34m:\u001b[0m \u001b[0;31m# if rc < -1, it's a bug in libzmq. Should we warn?\u001b[0m\u001b[0;34m\u001b[0m\u001b[0m\n\u001b[1;32m     14\u001b[0m         \u001b[0;32mif\u001b[0m \u001b[0merrno\u001b[0m \u001b[0;34m==\u001b[0m \u001b[0mEINTR\u001b[0m\u001b[0;34m:\u001b[0m\u001b[0;34m\u001b[0m\u001b[0m\n",
      "\u001b[0;31mKeyboardInterrupt\u001b[0m: "
     ]
    }
   ],
   "source": [
    "numbersDict = {\n",
    "    \"grid_1_1\": [],\n",
    "    \"grid_1_2\": [],\n",
    "    \"grid_1_3\": [],\n",
    "    \"grid_1_4\": [],\n",
    "    \"grid_2_1\": [],\n",
    "    \"grid_2_2\": [],\n",
    "    \"grid_2_3\": [],\n",
    "    \"grid_2_4\": [],\n",
    "    \"grid_3_1\": [],\n",
    "    \"grid_3_2\": [],\n",
    "    \"grid_3_3\": [],\n",
    "    \"grid_3_4\": [],\n",
    "    \"grid_4_1\": [],\n",
    "    \"grid_4_2\": [],\n",
    "    \"grid_4_3\": [],\n",
    "    \"grid_4_4\": [],\n",
    "    \"blob_area\" : [],\n",
    "    \"blob_centroid_x\" : [],\n",
    "    \"blob_centroid_y\" : [],\n",
    "    \"blob_angle\" : [],\n",
    "    \"blob_height\": [],\n",
    "    \"blob_width\": [],\n",
    "    \"number_of_holes\":[],\n",
    "    \"centroid_is_empty\": [],\n",
    "    \"centroid_top_is_empty\":[],\n",
    "    \"centroid_bottom_is_empty\":[],\n",
    "    \"label\" : []\n",
    "}\n",
    "    \n",
    "for number in numbers:\n",
    "    digit = number[0]\n",
    "    image = number[1]\n",
    "    invertedImage = number[2]\n",
    "    invertedBlobCount = len(invertedImage.findBlobs()) -1\n",
    "    blob = getBlob(image)\n",
    "    matrix = createMatrix(image)\n",
    "    centroid = blob.centroid()\n",
    "    split = splitImage(image, centroid[1], blob.height())\n",
    "    image.save(disp)\n",
    "    for y in range(4):\n",
    "        for x in range(4):\n",
    "            numbersDict[\"grid_\" + str(y+1) + \"_\" + str(x +1)].append(matrix[y][x])\n",
    "\n",
    "    \n",
    "#     numbersDict[\"matrix_top_row\"].append(sum(matrix[0]))\n",
    "#     numbersDict[\"matrix_second_row\"].append(sum(matrix[1]))\n",
    "#     numbersDict[\"matrix_third_row\"].append(sum(matrix[2]))\n",
    "#     numbersDict[\"matrix_bottom_row\"].append(sum(matrix[3]))\n",
    "    numbersDict[\"blob_area\"].append(blob.area())\n",
    "    numbersDict[\"blob_centroid_x\"].append(centroid[0])\n",
    "    numbersDict[\"blob_centroid_y\"].append(centroid[1])\n",
    "    numbersDict[\"blob_angle\"].append(blob.angle())\n",
    "    numbersDict[\"blob_height\"].append(blob.height())\n",
    "    numbersDict[\"blob_width\"].append(blob.width())\n",
    "    numbersDict[\"number_of_holes\"].append(invertedBlobCount)\n",
    "    numbersDict[\"centroid_is_empty\"].append(isCentroidPixelBlack(image, centroid))\n",
    "    numbersDict[\"centroid_top_is_empty\"].append(split[0])\n",
    "    numbersDict[\"centroid_bottom_is_empty\"].append(split[1])\n",
    "    numbersDict[\"label\"].append(number[0])    \n",
    "\n",
    "df = pd.DataFrame(numbersDict)\n",
    "df = df[[\n",
    "#         \"matrix_top_row\", \n",
    "#          \"matrix_second_row\", \n",
    "#          \"matrix_third_row\", \n",
    "#          \"matrix_bottom_row\", \n",
    "        \"grid_1_1\",\n",
    "        \"grid_1_2\",\n",
    "        \"grid_1_3\",\n",
    "        \"grid_1_4\",\n",
    "        \"grid_2_1\",\n",
    "        \"grid_2_2\",\n",
    "        \"grid_2_3\",\n",
    "        \"grid_2_4\",\n",
    "        \"grid_3_1\",\n",
    "        \"grid_3_2\",\n",
    "        \"grid_3_3\",\n",
    "        \"grid_3_4\",\n",
    "        \"grid_4_1\",\n",
    "        \"grid_4_2\",\n",
    "        \"grid_4_3\",\n",
    "        \"grid_4_4\",\n",
    "         \"blob_area\", \n",
    "         \"blob_centroid_x\", \n",
    "         \"blob_centroid_y\",\n",
    "         \"blob_angle\",\n",
    "         \"blob_height\",\n",
    "         \"blob_width\",\n",
    "         \"number_of_holes\",\n",
    "         \"centroid_is_empty\",\n",
    "         \"centroid_top_is_empty\",\n",
    "         \"centroid_bottom_is_empty\",\n",
    "         \"label\"]]\n",
    "df = df.sort_values(\"label\")"
   ]
  },
  {
   "cell_type": "code",
   "execution_count": null,
   "metadata": {},
   "outputs": [],
   "source": []
  },
  {
   "cell_type": "code",
   "execution_count": null,
   "metadata": {},
   "outputs": [],
   "source": [
    "# TEST : 4686: too many blobs\n",
    "\n",
    "# testImage = Image(\"../dataset-images/4686.png\")\n",
    "# testImage = testImage.binarize().dilate().erode()\n",
    "# blobs = testImage.findBlobs()\n",
    "# testImage.draw(blobs, autocolor=True)\n",
    "# testImage.save(disp)\n",
    "# print blobs.area()\n",
    "\n",
    "# testNums = []\n",
    "\n",
    "# for i in range(4):\n",
    "#     testNums.append(testImage.crop(i*size, 0, size, size*(i+1) ))"
   ]
  },
  {
   "cell_type": "code",
   "execution_count": null,
   "metadata": {},
   "outputs": [],
   "source": [
    "df.to_csv(\"../dataset-numpy/dataset_features.csv\", sep=',', encoding='utf-8', index=False)"
   ]
  },
  {
   "cell_type": "code",
   "execution_count": null,
   "metadata": {},
   "outputs": [],
   "source": [
    "#####move to feature analysis ####\n",
    "\n",
    "df.describe()"
   ]
  },
  {
   "cell_type": "code",
   "execution_count": null,
   "metadata": {},
   "outputs": [],
   "source": [
    "# #list with tuples (digit, invertbloblength, counter) \n",
    "# ['0', 1, 4]\n",
    "# ['0', 2, 173]\n",
    "# ['1', 1, 198]\n",
    "# ['2', 1, 193]\n",
    "# ['2', 2, 2]\n",
    "# ['3', 1, 194]\n",
    "# ['3', 2, 5]\n",
    "# ['4', 1, 171]\n",
    "# ['4', 2, 14]\n",
    "# ['5', 1, 184]\n",
    "# ['5', 2, 3]\n",
    "# ['6', 1, 60]\n",
    "# ['6', 2, 135]\n",
    "# ['7', 1, 196]\n",
    "# ['7', 2, 3]\n",
    "# ['8', 1, 27]\n",
    "# ['8', 2, 62]\n",
    "# ['8', 3, 91]\n",
    "# ['9', 1, 60]\n",
    "# ['9', 2, 144]\n",
    "\n",
    "# ['0', 0, 4], \n",
    "# ['0', 1, 173], \n",
    "# ['1', 0, 198], \n",
    "# ['2', 0, 193],\n",
    "# ['2', 1, 2]\n",
    "# ['3', 0, 194],\n",
    "# ['3', 1, 5],\n",
    "# ['4', 1, 15], \n",
    "# ['4', 0, 171], \n",
    "# ['5', 0, 184], \n",
    "# ['5', 1, 3], \n",
    "# ['6', 1, 135], \n",
    "# ['6', 0, 60],\n",
    "# ['7', 0, 196],\n",
    "# ['7', 1, 3], \n",
    "# ['8', 0, 27],\n",
    "# ['8', 1, 53],\n",
    "# ['8', 2, 91], \n",
    "# ['9', 0, 60], \n",
    "# ['9', 1, 144], \n",
    "  \n",
    "\n",
    "\n",
    "20"
   ]
  },
  {
   "cell_type": "code",
   "execution_count": null,
   "metadata": {},
   "outputs": [],
   "source": [
    "# #### naar feature analysis verplaatsen #######\n",
    "\n",
    "# show labels with the holes and amount\n",
    "df.groupby(['label', 'number_of_holes']).size()"
   ]
  },
  {
   "cell_type": "code",
   "execution_count": null,
   "metadata": {},
   "outputs": [],
   "source": []
  }
 ],
 "metadata": {
  "kernelspec": {
   "display_name": "Python 2",
   "language": "python",
   "name": "python2"
  },
  "language_info": {
   "codemirror_mode": {
    "name": "ipython",
    "version": 2
   },
   "file_extension": ".py",
   "mimetype": "text/x-python",
   "name": "python",
   "nbconvert_exporter": "python",
   "pygments_lexer": "ipython2",
   "version": "2.7.12"
  }
 },
 "nbformat": 4,
 "nbformat_minor": 2
}
