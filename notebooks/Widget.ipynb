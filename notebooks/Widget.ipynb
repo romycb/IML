{
 "cells": [
  {
   "cell_type": "code",
   "execution_count": 1,
   "metadata": {},
   "outputs": [],
   "source": [
    "from SimpleCV import *\n",
    "from ipywidgets import widgets\n",
    "from IPython.display import display\n",
    "import pandas as pd\n",
    "from sklearn import preprocessing\n",
    "from sklearn.externals import joblib"
   ]
  },
  {
   "cell_type": "markdown",
   "metadata": {},
   "source": [
    "# Preparing image"
   ]
  },
  {
   "cell_type": "code",
   "execution_count": 2,
   "metadata": {
    "scrolled": false
   },
   "outputs": [],
   "source": [
    "# divide number images into pieces of 8x8 and create matrix. image is 32X32\n",
    "def createMatrix(image):\n",
    "    size = 4\n",
    "    m = np.zeros((8,8))\n",
    "\n",
    "    for x in range(8):\n",
    "        for y in range(8):\n",
    "            crop = image.crop(x*size, y*size, size, size)\n",
    "            pixels = crop.getNumpy()[:,:,0] / 255\n",
    "            m[x][y] = pixels.sum()\n",
    "    return m.T.astype(int)\n",
    "\n",
    "# check if centroid pixel is black. If black return 1 else 0 \n",
    "def isCentroidPixelBlack(image, centroid):\n",
    "    img = image.crop(centroid[0], centroid[1], 1, 1)\n",
    "    color = img.meanColor()\n",
    "    return 0 if color[0] > 200 else 1\n",
    "\n",
    "# get the blob from the image\n",
    "def getBlob(image):\n",
    "    image.show()\n",
    "    blobs = image.findBlobs()\n",
    "    image.draw(blobs, autocolor=True)\n",
    "    return blobs[0]\n",
    "\n",
    "def centroidTopBottom(image, centroidY, height):    \n",
    "    croppedImageTop = image.crop(0,0,height,centroidY)\n",
    "    blobTop = getBlob(croppedImageTop)\n",
    "    centroidTop = blobTop.centroid()\n",
    "    pixelBlackTop = isCentroidPixelBlack(croppedImageTop,centroidTop)\n",
    "    \n",
    "    croppedImageBottom = image.crop(0,centroidY, height,(height-centroidY))   \n",
    "    blobBottom = getBlob(croppedImageBottom)\n",
    "    centroidBottom = blobBottom.centroid()\n",
    "    pixelBlackBottom = isCentroidPixelBlack(croppedImageBottom,centroidBottom)\n",
    "\n",
    "    return (pixelBlackTop, pixelBlackBottom)"
   ]
  },
  {
   "cell_type": "code",
   "execution_count": 3,
   "metadata": {},
   "outputs": [],
   "source": [
    "def getPreparedImage():\n",
    "    size = 32\n",
    "    imagelist = []\n",
    "    horizontalSplit=[]\n",
    "    numbers = []\n",
    "\n",
    "    # get all files and add them to tuple with the postal codes\n",
    "    originalImage = Image(str(file_selection.value))\n",
    "    image = originalImage.binarize().dilate().erode()\n",
    "    invertedImage = image.invert().embiggen( (128,40), Color.WHITE, (3,3))\n",
    "    imagelist.append((image, invertedImage))\n",
    "   \n",
    "    for image in imagelist:\n",
    "        for i in range(4):\n",
    "            sizeHeight = 40\n",
    "            sizeWidth = 32\n",
    "            normalImage = image[0].crop(i*size, 0, size, size*(i+1))\n",
    "            invertedImage = image[1].crop(i*sizeWidth, 0, sizeWidth, sizeHeight*(i+1))\n",
    "            numbers.append((normalImage, invertedImage))\n",
    "    \n",
    "    numbersDict = {\n",
    "        \"blob_area\" : [],\n",
    "        \"blob_centroid_x\" : [],\n",
    "        \"blob_centroid_y\" : [],\n",
    "        \"blob_angle\" : [],\n",
    "        \"blob_height\": [],\n",
    "        \"blob_width\": [],\n",
    "        \"blob_amount_contours\": [],\n",
    "        \"number_of_holes\":[],\n",
    "        \"centroid_is_empty\": [],\n",
    "        \"centroid_top_is_empty\":[],\n",
    "        \"centroid_bottom_is_empty\":[]\n",
    "    }\n",
    "\n",
    "    for x in range(8):\n",
    "        for y in range(8):\n",
    "            numbersDict[\"grid_\" + str(x) + \"_\" + str(y)] = []\n",
    "    \n",
    "    for number in numbers:\n",
    "        image = number[0]\n",
    "        invertedImage = number[1]\n",
    "        invertedBlobCount = len(invertedImage.findBlobs()) -1\n",
    "        blob = getBlob(image)\n",
    "        matrix = createMatrix(image)\n",
    "        centroid = blob.centroid()\n",
    "        split = centroidTopBottom(image, centroid[1], blob.height())\n",
    "        for x in range(8):\n",
    "            for y in range(8):\n",
    "                numbersDict[\"grid_\" + str(x) + \"_\" + str(y)].append(matrix[y][x])\n",
    "        numbersDict[\"blob_area\"].append(blob.area())\n",
    "        numbersDict[\"blob_centroid_x\"].append(centroid[0])\n",
    "        numbersDict[\"blob_centroid_y\"].append(centroid[1])\n",
    "        numbersDict[\"blob_angle\"].append(blob.angle())\n",
    "        numbersDict[\"blob_height\"].append(blob.height())\n",
    "        numbersDict[\"blob_width\"].append(blob.width())\n",
    "        numbersDict[\"blob_amount_contours\"].append(len(blob.contour()))\n",
    "        numbersDict[\"number_of_holes\"].append(invertedBlobCount)\n",
    "        numbersDict[\"centroid_is_empty\"].append(isCentroidPixelBlack(image, centroid))\n",
    "        numbersDict[\"centroid_top_is_empty\"].append(split[0])\n",
    "        numbersDict[\"centroid_bottom_is_empty\"].append(split[1])   \n",
    "        \n",
    "    numbers = []    \n",
    "    \n",
    "    df = pd.DataFrame(numbersDict)\n",
    "\n",
    "    return df"
   ]
  },
  {
   "cell_type": "markdown",
   "metadata": {},
   "source": [
    "# Drop columns"
   ]
  },
  {
   "cell_type": "code",
   "execution_count": 4,
   "metadata": {},
   "outputs": [],
   "source": [
    "scaler = joblib.load('scaler.joblib') \n",
    "clf = joblib.load('svcModel.joblib')\n",
    "\n",
    "def normalize(df):\n",
    "    df = df.drop(['grid_0_0', 'grid_0_1', 'grid_0_2', 'grid_0_3', 'grid_0_4', 'grid_0_5', 'grid_0_6', 'grid_0_7', \n",
    "              'grid_1_0', 'grid_1_1', 'grid_1_2', 'grid_1_3', 'grid_1_4', 'grid_1_5', 'grid_1_6', 'grid_1_7', \n",
    "              'grid_6_0', 'grid_6_1', 'grid_6_2', 'grid_6_3', 'grid_6_4', 'grid_6_5', 'grid_6_6', 'grid_6_7',\n",
    "              'grid_7_0', 'grid_7_1', 'grid_7_2', 'grid_7_3', 'grid_7_4', 'grid_7_5', 'grid_7_6', 'grid_7_7',\n",
    "              'blob_height', 'blob_amount_contours'], axis=1)        \n",
    "\n",
    "#     columnsToNormalize =['blob_area', 'blob_centroid_x', 'blob_centroid_y', 'blob_angle','blob_width','number_of_holes',\n",
    "#               'centroid_is_empty', 'centroid_top_is_empty', 'centroid_bottom_is_empty',\n",
    "#               'grid_2_0', 'grid_2_1', 'grid_2_2', 'grid_2_3', 'grid_2_4',\n",
    "#               'grid_2_5', 'grid_2_6', 'grid_2_7', 'grid_3_0', 'grid_3_1',\n",
    "#               'grid_3_2', 'grid_3_3', 'grid_3_4', 'grid_3_5', 'grid_3_6',\n",
    "#               'grid_3_7', 'grid_4_0', 'grid_4_1', 'grid_4_2', 'grid_4_3',\n",
    "#               'grid_4_4', 'grid_4_5', 'grid_4_6', 'grid_4_7', 'grid_5_0',\n",
    "#               'grid_5_1', 'grid_5_2', 'grid_5_3', 'grid_5_4', 'grid_5_5',\n",
    "#               'grid_5_6', 'grid_5_7']\n",
    "    \n",
    "    df_normalized = df.copy()\n",
    "#     scaled = scaler.transform(df_normalized[columnsToNormalize])\n",
    "#     df_normalized[columnsToNormalize] = pd.DataFrame(scaled, columns= columnsToNormalize)\n",
    "    scaled = scaler.transform(df_normalized)\n",
    "    df_normalized = pd.DataFrame(scaled, columns=df_normalized.columns)\n",
    "    return df_normalized\n",
    "\n",
    "def getPrediction(df):\n",
    "    df_normalized = normalize(df)\n",
    "    \n",
    "    return clf.predict(df_normalized)"
   ]
  },
  {
   "cell_type": "markdown",
   "metadata": {},
   "source": [
    "# Selecting an image and predict"
   ]
  },
  {
   "cell_type": "code",
   "execution_count": 5,
   "metadata": {},
   "outputs": [
    {
     "data": {
      "application/vnd.jupyter.widget-view+json": {
       "model_id": "62b5142b1f1f46b4971094e3df990e78",
       "version_major": 2,
       "version_minor": 0
      },
      "text/plain": [
       "Text(value=u'../dataset-images', description=u'Folder', placeholder=u'input path')"
      ]
     },
     "metadata": {},
     "output_type": "display_data"
    },
    {
     "data": {
      "application/vnd.jupyter.widget-view+json": {
       "model_id": "34272c520df640c3aa49590d0ba93f15",
       "version_major": 2,
       "version_minor": 0
      },
      "text/plain": [
       "Button(description=u'Select folder', style=ButtonStyle())"
      ]
     },
     "metadata": {},
     "output_type": "display_data"
    },
    {
     "data": {
      "application/vnd.jupyter.widget-view+json": {
       "model_id": "256847a4464d4720aec63d82cbd32903",
       "version_major": 2,
       "version_minor": 0
      },
      "text/plain": [
       "RHJvcGRvd24oZGVzY3JpcHRpb249dSdGaWxlOicsIG9wdGlvbnM9KCcuLi9kYXRhc2V0LWltYWdlcy83NjIwLnBuZycsICcuLi9kYXRhc2V0LWltYWdlcy83NjI3LnBuZycsICcuLi9kYXRhc2XigKY=\n"
      ]
     },
     "metadata": {},
     "output_type": "display_data"
    },
    {
     "data": {
      "application/vnd.jupyter.widget-view+json": {
       "model_id": "aa343c07dd3d4063ab43f4c84bf8627c",
       "version_major": 2,
       "version_minor": 0
      },
      "text/plain": [
       "Button(description=u'Select Image', style=ButtonStyle())"
      ]
     },
     "metadata": {},
     "output_type": "display_data"
    },
    {
     "data": {
      "application/vnd.jupyter.widget-view+json": {
       "model_id": "141ddaf1e40248cf8517b9cbd47ae591",
       "version_major": 2,
       "version_minor": 0
      },
      "text/plain": [
       "Output()"
      ]
     },
     "metadata": {},
     "output_type": "display_data"
    },
    {
     "name": "stderr",
     "output_type": "stream",
     "text": [
      "/usr/local/lib/python2.7/dist-packages/SimpleCV/ImageClass.py:1970: FutureWarning: elementwise comparison failed; returning scalar instead, but in the future will perform elementwise comparison\n",
      "  if self._numpy != \"\":\n"
     ]
    }
   ],
   "source": [
    "# Display for showing images\n",
    "disp = Display(displaytype='notebook')\n",
    "\n",
    "# create output\n",
    "output = widgets.Output()\n",
    "\n",
    "# Find all png files in a folder\n",
    "files = glob.glob(os.path.join(\"../dataset-images/\", \"*.png\"))\n",
    "\n",
    "# Select path\n",
    "file_input_path = widgets.Text(value=\"../dataset-images\", placeholder=\"input path\", description=\"Folder\")\n",
    "select_button = widgets.Button(description=\"Select folder\")\n",
    "\n",
    "\n",
    "# Create a dropdown\n",
    "file_selection = widgets.Dropdown(\n",
    "    options=files,\n",
    "    description='File:'\n",
    ")\n",
    "\n",
    "# Create a button\n",
    "button = widgets.Button(description=\"Select Image\")\n",
    "\n",
    "# Add widgets to notebook\n",
    "display(file_input_path)\n",
    "display(select_button)\n",
    "display(file_selection)\n",
    "display(button)\n",
    "display(output)\n",
    "\n",
    "# Actions for components\n",
    "def on_button_clicked(b):\n",
    "    output.clear_output()\n",
    "    file = file_selection.value\n",
    "    if file:\n",
    "        img = Image(str(file))\n",
    "        img = img.binarize()\n",
    "        #prepare the image to be put in the model, returns dataframe\n",
    "        df = getPreparedImage()\n",
    "        #gets the predictions for that specific dataframe\n",
    "        with output:\n",
    "            img.save(disp)\n",
    "            print getPrediction(df)\n",
    "    else:\n",
    "        with output:\n",
    "            print 'Please select an image'\n",
    "    \n",
    "# Select folder\n",
    "def on_select_clicked(b):\n",
    "    files = glob.glob(os.path.join(file_input_path.value, \"*.png\"))\n",
    "    file_selection.options = files\n",
    "    \n",
    "    \n",
    "# Bind button click to action\n",
    "button.on_click(on_button_clicked)\n",
    "select_button.on_click(on_select_clicked)"
   ]
  }
 ],
 "metadata": {
  "kernelspec": {
   "display_name": "Python 2",
   "language": "python",
   "name": "python2"
  },
  "language_info": {
   "codemirror_mode": {
    "name": "ipython",
    "version": 2
   },
   "file_extension": ".py",
   "mimetype": "text/x-python",
   "name": "python",
   "nbconvert_exporter": "python",
   "pygments_lexer": "ipython2",
   "version": "2.7.12"
  }
 },
 "nbformat": 4,
 "nbformat_minor": 2
}
