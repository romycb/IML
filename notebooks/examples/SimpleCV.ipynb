{
 "cells": [
  {
   "cell_type": "markdown",
   "metadata": {},
   "source": [
    "# SimpleCV examples\n",
    "This notebook contains several SimpleCV examples. The following subjects are shown in the examples:\n",
    "1. Opening an image and showing it in notebook\n",
    "2. Identification of blobs and extracting features from those blobs\n",
    "\n",
    "## Important notes\n",
    "Due to an error in the library of SimpleCV, some operations might cause a \"BitDepth\" error. This can be solved by once calling the img.show() method on an image. This method will not do anything visible, although it might freeze your docker terminal (the server is still running)."
   ]
  },
  {
   "cell_type": "code",
   "execution_count": null,
   "metadata": {},
   "outputs": [],
   "source": [
    "# Example 1: Load a single image\n",
    "from SimpleCV import *\n",
    "disp = Display(displaytype='notebook')\n",
    "img = Image('images/lenna.png')\n",
    "img.save(disp)"
   ]
  },
  {
   "cell_type": "code",
   "execution_count": null,
   "metadata": {},
   "outputs": [],
   "source": [
    "# Example 2: Example of blob identification and gathering information about the blobs\n",
    "from SimpleCV import *\n",
    "\n",
    "org = Image(\"images/coins.jpg\")\n",
    "\n",
    "# <IMPORTANT>\n",
    "# HACK: Next code line is necessary in order to make the script work (does nothing visible)\n",
    "# Some errors in Jupyter/SimpleCV combination. Without calling show() function, other functions such as blobs.draw() will not work\n",
    "# </IMPORTANT>\n",
    "org.show()\n",
    "\n",
    "# Find the blobs and draw them\n",
    "blobs = org.findBlobs() \n",
    "blobs.draw(autocolor=True) # Note: See hack above. Not working without calling org.show()\n",
    "\n",
    "# Show the image\n",
    "disp = Display(displaytype='notebook')\n",
    "org.save(disp)\n",
    "\n",
    "# Print areas of the blobs\n",
    "print \"Area: \", blobs.area()"
   ]
  }
 ],
 "metadata": {
  "kernelspec": {
   "display_name": "Python 2",
   "language": "python",
   "name": "python2"
  },
  "language_info": {
   "codemirror_mode": {
    "name": "ipython",
    "version": 2
   },
   "file_extension": ".py",
   "mimetype": "text/x-python",
   "name": "python",
   "nbconvert_exporter": "python",
   "pygments_lexer": "ipython2",
   "version": "2.7.12"
  }
 },
 "nbformat": 4,
 "nbformat_minor": 1
}
