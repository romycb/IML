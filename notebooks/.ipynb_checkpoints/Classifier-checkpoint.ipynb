{
 "cells": [
  {
   "cell_type": "markdown",
   "metadata": {},
   "source": [
    "# Classifier"
   ]
  },
  {
   "cell_type": "markdown",
   "metadata": {},
   "source": [
    "meer grid based dingen toevoegen, nu gaan we niet hoger komen\n"
   ]
  },
  {
   "cell_type": "code",
   "execution_count": 10,
   "metadata": {},
   "outputs": [],
   "source": [
    "from SimpleCV import *\n",
    "from IPython.display import HTML\n",
    "import matplotlib.pyplot as plt\n",
    "import numpy as np\n",
    "import matplotlib.cm as cm\n",
    "import sklearn \n",
    "from sklearn import preprocessing\n",
    "from sklearn.model_selection import train_test_split\n",
    "from sklearn.model_selection import GridSearchCV\n",
    "from sklearn.svm import SVC\n",
    "from sklearn.neighbors import KNeighborsClassifier\n",
    "import pandas as pd\n",
    "import cv2\n",
    "import glob\n",
    "from sklearn.ensemble import RandomForestClassifier\n",
    "from sklearn.naive_bayes import GaussianNB, BernoulliNB\n",
    "from sklearn.tree import DecisionTreeClassifier\n",
    "from sklearn import svm\n"
   ]
  },
  {
   "cell_type": "code",
   "execution_count": 2,
   "metadata": {},
   "outputs": [],
   "source": [
    "df = pd.read_csv(\"../dataset-numpy/dataset_features.csv\")\n",
    "df.head()\n",
    "\n",
    "\n",
    "# split df in data (X) and labels (y)\n",
    "X, y = df.iloc[:,:-1], df.iloc[:,-1]\n",
    "\n",
    "# create train and test data and labels\n",
    "X_train, X_test, y_train, y_test = train_test_split(X, y, test_size =0.20, random_state=42)"
   ]
  },
  {
   "cell_type": "code",
   "execution_count": 3,
   "metadata": {},
   "outputs": [],
   "source": [
    "min_max_scaler = preprocessing.MinMaxScaler() # Scale the training features\n",
    "training_set = min_max_scaler.fit_transform(X_train)\n",
    "# Scale the test features (using the same settings as the trainingset)\n",
    "test_set = min_max_scaler.transform(X_test)"
   ]
  },
  {
   "cell_type": "code",
   "execution_count": 4,
   "metadata": {},
   "outputs": [],
   "source": [
    "# #svm classifier\n",
    "# clfSVM = svm.SVC(gamma='scale')\n",
    "# clfSVM.fit(X_train, y_train)\n",
    "# y_pred = gnb.predict(X_test)\n",
    "# print \"SVM :\",clfSVM.score(X_test, y_test)"
   ]
  },
  {
   "cell_type": "code",
   "execution_count": 5,
   "metadata": {},
   "outputs": [
    {
     "name": "stdout",
     "output_type": "stream",
     "text": [
      "Gaussian : 0.838541666667\n",
      "Bernoulli: 0.90625\n"
     ]
    }
   ],
   "source": [
    "#Naive Bayes Gaussian\n",
    "gnb = GaussianNB()\n",
    "gnb.fit(training_set, y_train)\n",
    "#y_pred = gnb.predict(X_test)\n",
    "print \"Gaussian :\",gnb.score(test_set, y_test)\n",
    "\n",
    "#Naive Bayes Bernoulli\n",
    "bnb = BernoulliNB()\n",
    "bnb.fit(training_set, y_train)\n",
    "#y_pred = gnb.predict(X_test)\n",
    "print \"Bernoulli:\",bnb.score(test_set, y_test)\n"
   ]
  },
  {
   "cell_type": "code",
   "execution_count": 6,
   "metadata": {},
   "outputs": [
    {
     "name": "stdout",
     "output_type": "stream",
     "text": [
      "Random forest: 0.916666666667\n",
      "Decision tree: 0.8671875\n"
     ]
    }
   ],
   "source": [
    "#Random Forest\n",
    "# Create a random forest classifier\n",
    "clfRF = RandomForestClassifier(n_jobs=2, random_state=0)\n",
    "# Train the classifier to take the training features and learn how they relate to the training y\n",
    "clfRF.fit(training_set, y_train)\n",
    "print \"Random forest:\",clfRF.score(test_set, y_test)\n",
    "\n",
    "#Decision tree\n",
    "clfDT = DecisionTreeClassifier(random_state=0)\n",
    "clfDT.fit(training_set, y_train)\n",
    "print \"Decision tree:\",clfDT.score(test_set, y_test)"
   ]
  },
  {
   "cell_type": "code",
   "execution_count": 7,
   "metadata": {},
   "outputs": [
    {
     "name": "stdout",
     "output_type": "stream",
     "text": [
      "Score KNN:  0.919270833333\n"
     ]
    }
   ],
   "source": [
    "# KNN\n",
    "# niet accurate, hoeveelheid neighbors:\n",
    "# 5 = 0.841666666667\n",
    "# 6 = 0.835416666667\n",
    "# 7 = 0.8375\n",
    "# 1 = 0.827083333333\n",
    "# 2 = 0.835416666667\n",
    "# 3 = 0.845833333333\n",
    "# 4 = 0.847916666667\n",
    "# 8 = 0.83125\n",
    "# 9 = 0.83125\n",
    "# 10 = 0.8375\n",
    "\n",
    "# min_max_scaler = preprocessing.MinMaxScaler() # Scale the training features\n",
    "# training_set = min_max_scaler.fit_transform(X_train)\n",
    "# # Scale the test features (using the same settings as the trainingset)\n",
    "# test_set = min_max_scaler.transform(X_test)\n",
    "\n",
    "# Create a classifier with k = 5\n",
    "clfKNN = KNeighborsClassifier(n_neighbors=10)\n",
    "# Train the classifier with the training data and training labels\n",
    "clfKNN.fit(training_set, y_train)\n",
    " \n",
    "# Score the classifier\n",
    "# (calculates the mean accuracy of the given test data) \n",
    "score = clfKNN.score(test_set, y_test)\n",
    "print \"Score KNN: \", score"
   ]
  },
  {
   "cell_type": "code",
   "execution_count": 12,
   "metadata": {},
   "outputs": [
    {
     "name": "stdout",
     "output_type": "stream",
     "text": [
      "# Tuning hyper-parameters for precision\n",
      "()\n",
      "Best parameters set found on development set:\n",
      "()\n",
      "{'kernel': 'linear', 'C': 10}\n",
      "()\n",
      "Grid scores on development set:\n",
      "()\n",
      "0.628 (+/-0.055) for {'kernel': 'rbf', 'C': 1, 'gamma': 0.001}\n",
      "0.464 (+/-0.083) for {'kernel': 'rbf', 'C': 1, 'gamma': 0.0001}\n",
      "0.869 (+/-0.012) for {'kernel': 'rbf', 'C': 10, 'gamma': 0.001}\n",
      "0.747 (+/-0.032) for {'kernel': 'rbf', 'C': 10, 'gamma': 0.0001}\n",
      "0.899 (+/-0.019) for {'kernel': 'rbf', 'C': 100, 'gamma': 0.001}\n",
      "0.907 (+/-0.013) for {'kernel': 'rbf', 'C': 100, 'gamma': 0.0001}\n",
      "0.892 (+/-0.022) for {'kernel': 'rbf', 'C': 1000, 'gamma': 0.001}\n",
      "0.933 (+/-0.020) for {'kernel': 'rbf', 'C': 1000, 'gamma': 0.0001}\n",
      "0.947 (+/-0.008) for {'kernel': 'linear', 'C': 1}\n",
      "0.950 (+/-0.009) for {'kernel': 'linear', 'C': 10}\n",
      "0.950 (+/-0.009) for {'kernel': 'linear', 'C': 100}\n",
      "0.950 (+/-0.009) for {'kernel': 'linear', 'C': 1000}\n",
      "()\n",
      "Detailed classification report:\n",
      "()\n",
      "The model is trained on the full development set.\n",
      "The scores are computed on the full evaluation set.\n",
      "()\n",
      "             precision    recall  f1-score   support\n",
      "\n",
      "          0       1.00      0.94      0.97        31\n",
      "          1       0.94      0.96      0.95        47\n",
      "          2       0.93      1.00      0.97        42\n",
      "          3       0.97      0.88      0.93        42\n",
      "          4       0.91      0.94      0.92        31\n",
      "          5       0.86      0.94      0.90        32\n",
      "          6       0.97      0.97      0.97        39\n",
      "          7       0.98      0.95      0.97        44\n",
      "          8       0.97      0.90      0.94        40\n",
      "          9       0.87      0.92      0.89        36\n",
      "\n",
      "avg / total       0.94      0.94      0.94       384\n",
      "\n",
      "()\n",
      "# Tuning hyper-parameters for recall\n",
      "()\n",
      "Best parameters set found on development set:\n",
      "()\n",
      "{'kernel': 'linear', 'C': 10}\n",
      "()\n",
      "Grid scores on development set:\n",
      "()\n",
      "0.615 (+/-0.039) for {'kernel': 'rbf', 'C': 1, 'gamma': 0.001}\n",
      "0.472 (+/-0.050) for {'kernel': 'rbf', 'C': 1, 'gamma': 0.0001}\n",
      "0.865 (+/-0.013) for {'kernel': 'rbf', 'C': 10, 'gamma': 0.001}\n",
      "0.734 (+/-0.024) for {'kernel': 'rbf', 'C': 10, 'gamma': 0.0001}\n",
      "0.895 (+/-0.021) for {'kernel': 'rbf', 'C': 100, 'gamma': 0.001}\n",
      "0.904 (+/-0.016) for {'kernel': 'rbf', 'C': 100, 'gamma': 0.0001}\n",
      "0.888 (+/-0.022) for {'kernel': 'rbf', 'C': 1000, 'gamma': 0.001}\n",
      "0.931 (+/-0.021) for {'kernel': 'rbf', 'C': 1000, 'gamma': 0.0001}\n",
      "0.944 (+/-0.008) for {'kernel': 'linear', 'C': 1}\n",
      "0.947 (+/-0.010) for {'kernel': 'linear', 'C': 10}\n",
      "0.947 (+/-0.010) for {'kernel': 'linear', 'C': 100}\n",
      "0.947 (+/-0.010) for {'kernel': 'linear', 'C': 1000}\n",
      "()\n",
      "Detailed classification report:\n",
      "()\n",
      "The model is trained on the full development set.\n",
      "The scores are computed on the full evaluation set.\n",
      "()\n",
      "             precision    recall  f1-score   support\n",
      "\n",
      "          0       1.00      0.94      0.97        31\n",
      "          1       0.94      0.96      0.95        47\n",
      "          2       0.93      1.00      0.97        42\n",
      "          3       0.97      0.88      0.93        42\n",
      "          4       0.91      0.94      0.92        31\n",
      "          5       0.86      0.94      0.90        32\n",
      "          6       0.97      0.97      0.97        39\n",
      "          7       0.98      0.95      0.97        44\n",
      "          8       0.97      0.90      0.94        40\n",
      "          9       0.87      0.92      0.89        36\n",
      "\n",
      "avg / total       0.94      0.94      0.94       384\n",
      "\n",
      "()\n"
     ]
    }
   ],
   "source": [
    "from sklearn.metrics import classification_report\n",
    "\n",
    "# dit was test van online, niet gebruiken maar zelf gridsearch toevoegen\n",
    "\n",
    "# Set the parameters by cross-validation\n",
    "tuned_parameters = [{'kernel': ['rbf'], 'gamma': [1e-3, 1e-4],\n",
    "                     'C': [1, 10, 100, 1000]},\n",
    "                    {'kernel': ['linear'], 'C': [1, 10, 100, 1000]}]\n",
    "\n",
    "scores = ['precision', 'recall']\n",
    "\n",
    "for score in scores:\n",
    "    print(\"# Tuning hyper-parameters for %s\" % score)\n",
    "    print()\n",
    "\n",
    "    clf = GridSearchCV(SVC(), tuned_parameters, cv=5,\n",
    "                       scoring='%s_macro' % score)\n",
    "    clf.fit(X_train, y_train)\n",
    "\n",
    "    print(\"Best parameters set found on development set:\")\n",
    "    print()\n",
    "    print(clf.best_params_)\n",
    "    print()\n",
    "    print(\"Grid scores on development set:\")\n",
    "    print()\n",
    "    means = clf.cv_results_['mean_test_score']\n",
    "    stds = clf.cv_results_['std_test_score']\n",
    "    for mean, std, params in zip(means, stds, clf.cv_results_['params']):\n",
    "        print(\"%0.3f (+/-%0.03f) for %r\"\n",
    "              % (mean, std * 2, params))\n",
    "    print()\n",
    "\n",
    "    print(\"Detailed classification report:\")\n",
    "    print()\n",
    "    print(\"The model is trained on the full development set.\")\n",
    "    print(\"The scores are computed on the full evaluation set.\")\n",
    "    print()\n",
    "    y_true, y_pred = y_test, clf.predict(X_test)\n",
    "    print(classification_report(y_true, y_pred))\n",
    "    print()\n"
   ]
  },
  {
   "cell_type": "code",
   "execution_count": null,
   "metadata": {},
   "outputs": [],
   "source": []
  }
 ],
 "metadata": {
  "kernelspec": {
   "display_name": "Python 2",
   "language": "python",
   "name": "python2"
  },
  "language_info": {
   "codemirror_mode": {
    "name": "ipython",
    "version": 2
   },
   "file_extension": ".py",
   "mimetype": "text/x-python",
   "name": "python",
   "nbconvert_exporter": "python",
   "pygments_lexer": "ipython2",
   "version": "2.7.12"
  }
 },
 "nbformat": 4,
 "nbformat_minor": 2
}
